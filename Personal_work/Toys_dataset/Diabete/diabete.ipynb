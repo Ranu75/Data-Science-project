{
 "cells": [
  {
   "cell_type": "markdown",
   "metadata": {},
   "source": [
    "# Étude des données DIABETES\n",
    "\n",
    "Dans ce notebook, vous trouverez les prévisions réalisées pour les données de diabètes. \n",
    "\n",
    "Voici les étapes de la procédure : \n",
    "- importer les librairies\n",
    "- importer les données \n",
    "- nettoyage des données\n",
    "    - traitement des doublons \n",
    "    - vérification de la présence de valeurs manquantes ou non \n",
    "    - vérification de l'influence des valeurs aberrantes\n",
    "- analyse descriptive\n",
    "    - étude des corrélations \n",
    "    - étude de la répartition des diabétiques\n",
    "- Division des données en deux échantillons + normalisation \n",
    "- Modélisation avec les classifiers \n",
    "- Prévisions"
   ]
  },
  {
   "cell_type": "code",
   "execution_count": 1,
   "metadata": {},
   "outputs": [
    {
     "ename": "ModuleNotFoundError",
     "evalue": "No module named 'pandas'",
     "output_type": "error",
     "traceback": [
      "\u001b[0;31m---------------------------------------------------------------------------\u001b[0m",
      "\u001b[0;31mModuleNotFoundError\u001b[0m                       Traceback (most recent call last)",
      "Cell \u001b[0;32mIn[1], line 1\u001b[0m\n\u001b[0;32m----> 1\u001b[0m \u001b[38;5;28;01mimport\u001b[39;00m \u001b[38;5;21;01mpandas\u001b[39;00m \u001b[38;5;28;01mas\u001b[39;00m \u001b[38;5;21;01mpd\u001b[39;00m\n\u001b[1;32m      2\u001b[0m \u001b[38;5;28;01mimport\u001b[39;00m \u001b[38;5;21;01mnumpy\u001b[39;00m \u001b[38;5;28;01mas\u001b[39;00m \u001b[38;5;21;01mnp\u001b[39;00m\n\u001b[1;32m      3\u001b[0m \u001b[38;5;28;01mimport\u001b[39;00m \u001b[38;5;21;01mseaborn\u001b[39;00m \u001b[38;5;28;01mas\u001b[39;00m \u001b[38;5;21;01msns\u001b[39;00m\n",
      "\u001b[0;31mModuleNotFoundError\u001b[0m: No module named 'pandas'"
     ]
    }
   ],
   "source": [
    "import pandas as pd\n",
    "import numpy as np\n",
    "import seaborn as sns\n",
    "\n",
    "# librairie pour le preprocessing\n",
    "from sklearn.preprocessing import StandardScaler\n",
    "\n",
    "# librairie pour la modélisation\n",
    "from sklearn.datasets import load_diabetes # Iris data\n",
    "from sklearn.model_selection import train_test_split # split into two sample : training and test\n",
    "from sklearn.model_selection import cross_val_score # split into two sample : validation and training\n",
    "from sklearn.linear_model import LogisticRegression # Logistic Regression\n",
    "from sklearn.ensemble import RandomForestClassifier # RandomForest Classifier\n",
    "from sklearn.svm import SVC, LinearSVC # SVC\n",
    "from sklearn.neighbors import KNeighborsClassifier # KNN\n",
    "from sklearn.naive_bayes import GaussianNB # GaussianNB\n",
    "from sklearn.linear_model import Perceptron # Perceptron\n",
    "from sklearn.linear_model import SGDClassifier # SGD\n",
    "from sklearn.tree import DecisionTreeClassifier # Tree Decision\n",
    "\n",
    "# librairie pour évaluer\n",
    "from sklearn.metrics import accuracy_score\n",
    "import optuna\n",
    "\n",
    "# librairie pour les visualisations\n",
    "import matplotlib.pyplot as plt  \n",
    "\n",
    "# librairie pour faire de l'industrialisation\n",
    "import joblib"
   ]
  },
  {
   "cell_type": "code",
   "execution_count": null,
   "metadata": {},
   "outputs": [],
   "source": [
    "# Charger les données iris \n",
    "diabetes = load_diabetes()\n",
    "# Créer un DataFrame pandas à partir des données et des noms des colonnes\n",
    "data_diabetes = pd.DataFrame(data=diabetes.data, columns=diabetes.feature_names) # features\n",
    "data_diabetes[\"target\"] = diabetes.target\n",
    "# Afficher les 10 premières lignes des données iris\n",
    "data_diabetes.head(20)"
   ]
  }
 ],
 "metadata": {
  "kernelspec": {
   "display_name": "Python 3 (ipykernel)",
   "language": "python",
   "name": "python3"
  },
  "language_info": {
   "codemirror_mode": {
    "name": "ipython",
    "version": 3
   },
   "file_extension": ".py",
   "mimetype": "text/x-python",
   "name": "python",
   "nbconvert_exporter": "python",
   "pygments_lexer": "ipython3",
   "version": "3.12.2"
  }
 },
 "nbformat": 4,
 "nbformat_minor": 4
}
