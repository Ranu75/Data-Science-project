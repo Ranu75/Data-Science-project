{
 "cells": [
  {
   "cell_type": "markdown",
   "id": "be840ae5-c35e-43b3-bbfc-7f5304b60e52",
   "metadata": {},
   "source": [
    "# Spam Detection"
   ]
  },
  {
   "cell_type": "code",
   "execution_count": 3,
   "id": "ee651b16-414e-4d89-8b40-df813691e25a",
   "metadata": {},
   "outputs": [],
   "source": [
    "# import libraries\n",
    "import string\n",
    "\n",
    "## classical libraries\n",
    "import pandas as pd\n",
    "import numpy as np\n",
    "import matplotlib.pyplot\n",
    "\n",
    "## machine learning\n",
    "import sklearn\n",
    "from sklearn.feature_extraction.text import CountVectorizer\n",
    "from sklearn.model_selection import train_test_split\n",
    "from sklearn.ensemble import RandomForestClassifier\n",
    "\n",
    "## NLP\n",
    "import nltk\n",
    "from nltk.corpus import stopwords\n",
    "from nltk.stem.porter import PorterStemmer\n"
   ]
  },
  {
   "cell_type": "code",
   "execution_count": 4,
   "id": "54a8eea8-6804-4cff-922b-49d0f2c56854",
   "metadata": {},
   "outputs": [
    {
     "name": "stderr",
     "output_type": "stream",
     "text": [
      "[nltk_data] Downloading package stopwords to /Users/ranu/nltk_data...\n",
      "[nltk_data]   Package stopwords is already up-to-date!\n"
     ]
    },
    {
     "data": {
      "text/plain": [
       "True"
      ]
     },
     "execution_count": 4,
     "metadata": {},
     "output_type": "execute_result"
    }
   ],
   "source": [
    "## download important packages \n",
    "nltk.download('stopwords')"
   ]
  },
  {
   "cell_type": "code",
   "execution_count": 5,
   "id": "a4f59457-3945-45c0-b7ed-65c3a697342a",
   "metadata": {},
   "outputs": [],
   "source": [
    "df = pd.read_csv('spam_ham_dataset.csv')"
   ]
  },
  {
   "cell_type": "code",
   "execution_count": 6,
   "id": "d8938b00-489c-4ee4-91dd-64c2c863d315",
   "metadata": {},
   "outputs": [
    {
     "data": {
      "text/html": [
       "<div>\n",
       "<style scoped>\n",
       "    .dataframe tbody tr th:only-of-type {\n",
       "        vertical-align: middle;\n",
       "    }\n",
       "\n",
       "    .dataframe tbody tr th {\n",
       "        vertical-align: top;\n",
       "    }\n",
       "\n",
       "    .dataframe thead th {\n",
       "        text-align: right;\n",
       "    }\n",
       "</style>\n",
       "<table border=\"1\" class=\"dataframe\">\n",
       "  <thead>\n",
       "    <tr style=\"text-align: right;\">\n",
       "      <th></th>\n",
       "      <th>Unnamed: 0</th>\n",
       "      <th>label</th>\n",
       "      <th>text</th>\n",
       "      <th>label_num</th>\n",
       "    </tr>\n",
       "  </thead>\n",
       "  <tbody>\n",
       "    <tr>\n",
       "      <th>0</th>\n",
       "      <td>605</td>\n",
       "      <td>ham</td>\n",
       "      <td>Subject: enron methanol ; meter # : 988291\\r\\n...</td>\n",
       "      <td>0</td>\n",
       "    </tr>\n",
       "    <tr>\n",
       "      <th>1</th>\n",
       "      <td>2349</td>\n",
       "      <td>ham</td>\n",
       "      <td>Subject: hpl nom for january 9 , 2001\\r\\n( see...</td>\n",
       "      <td>0</td>\n",
       "    </tr>\n",
       "    <tr>\n",
       "      <th>2</th>\n",
       "      <td>3624</td>\n",
       "      <td>ham</td>\n",
       "      <td>Subject: neon retreat\\r\\nho ho ho , we ' re ar...</td>\n",
       "      <td>0</td>\n",
       "    </tr>\n",
       "    <tr>\n",
       "      <th>3</th>\n",
       "      <td>4685</td>\n",
       "      <td>spam</td>\n",
       "      <td>Subject: photoshop , windows , office . cheap ...</td>\n",
       "      <td>1</td>\n",
       "    </tr>\n",
       "    <tr>\n",
       "      <th>4</th>\n",
       "      <td>2030</td>\n",
       "      <td>ham</td>\n",
       "      <td>Subject: re : indian springs\\r\\nthis deal is t...</td>\n",
       "      <td>0</td>\n",
       "    </tr>\n",
       "  </tbody>\n",
       "</table>\n",
       "</div>"
      ],
      "text/plain": [
       "   Unnamed: 0 label                                               text  \\\n",
       "0         605   ham  Subject: enron methanol ; meter # : 988291\\r\\n...   \n",
       "1        2349   ham  Subject: hpl nom for january 9 , 2001\\r\\n( see...   \n",
       "2        3624   ham  Subject: neon retreat\\r\\nho ho ho , we ' re ar...   \n",
       "3        4685  spam  Subject: photoshop , windows , office . cheap ...   \n",
       "4        2030   ham  Subject: re : indian springs\\r\\nthis deal is t...   \n",
       "\n",
       "   label_num  \n",
       "0          0  \n",
       "1          0  \n",
       "2          0  \n",
       "3          1  \n",
       "4          0  "
      ]
     },
     "execution_count": 6,
     "metadata": {},
     "output_type": "execute_result"
    }
   ],
   "source": [
    "df.head(5)"
   ]
  },
  {
   "cell_type": "code",
   "execution_count": 7,
   "id": "b71703f6-ad43-45d8-89de-f7c70edc5154",
   "metadata": {},
   "outputs": [],
   "source": [
    "## suppression des signes de ponctuation\n",
    "df['text'] = df['text'].apply(lambda x: x.replace('\\r\\n', ' '))"
   ]
  },
  {
   "cell_type": "code",
   "execution_count": 8,
   "id": "d38daa31-fec1-481e-b7b4-53409f924115",
   "metadata": {},
   "outputs": [
    {
     "name": "stdout",
     "output_type": "stream",
     "text": [
      "<class 'pandas.core.frame.DataFrame'>\n",
      "RangeIndex: 5171 entries, 0 to 5170\n",
      "Data columns (total 4 columns):\n",
      " #   Column      Non-Null Count  Dtype \n",
      "---  ------      --------------  ----- \n",
      " 0   Unnamed: 0  5171 non-null   int64 \n",
      " 1   label       5171 non-null   object\n",
      " 2   text        5171 non-null   object\n",
      " 3   label_num   5171 non-null   int64 \n",
      "dtypes: int64(2), object(2)\n",
      "memory usage: 161.7+ KB\n"
     ]
    }
   ],
   "source": [
    "df.info()"
   ]
  },
  {
   "cell_type": "markdown",
   "id": "9dacb7e1",
   "metadata": {},
   "source": [
    "### Tokenization & Stemming"
   ]
  },
  {
   "cell_type": "code",
   "execution_count": 9,
   "id": "c40c1c48-6c8b-4d56-b7b7-36e4e71fb703",
   "metadata": {},
   "outputs": [],
   "source": [
    "stemmer = PorterStemmer() # to reduce word\n",
    "corpus = [] # create a corpus\n",
    "\n",
    "stopwords_set = set(stopwords.words('english'))\n",
    "\n",
    "for i in range(len(df)):\n",
    "    ## conversion en minuscules\n",
    "    text = df['text'].iloc[i].lower()\n",
    "    ## tokenization\n",
    "    text = text.translate(str.maketrans('', '', string.punctuation)).split()\n",
    "    ## stemming\n",
    "    text = [stemmer.stem(word) for word in text if word not in stopwords_set]\n",
    "    text = ' '.join(text)\n",
    "    corpus.append(text)"
   ]
  },
  {
   "cell_type": "code",
   "execution_count": 10,
   "id": "12f6b5cb-21cc-436f-a30e-009382802a3e",
   "metadata": {},
   "outputs": [
    {
     "data": {
      "text/plain": [
       "'subject enron methanol meter 988291 follow note gave monday 4 3 00 preliminari flow data provid daren pleas overrid pop daili volum present zero reflect daili activ obtain ga control chang need asap econom purpos'"
      ]
     },
     "execution_count": 10,
     "metadata": {},
     "output_type": "execute_result"
    }
   ],
   "source": [
    "## difference between two text\n",
    "df['text'].iloc[0]\n",
    "corpus[0]"
   ]
  },
  {
   "cell_type": "markdown",
   "id": "51327350",
   "metadata": {},
   "source": [
    "### Vectorization"
   ]
  },
  {
   "cell_type": "code",
   "execution_count": 11,
   "id": "7a60f1dd-496c-4431-b197-af70d496bd44",
   "metadata": {},
   "outputs": [],
   "source": [
    "## vectorize\n",
    "vectorizer = CountVectorizer()\n",
    "\n",
    "## split data\n",
    "X = vectorizer.fit_transform(corpus).toarray()\n",
    "y = df['label_num']\n",
    "\n",
    "X_train, X_test, y_train, y_test = train_test_split(X, y, test_size=0.2)"
   ]
  },
  {
   "cell_type": "code",
   "execution_count": 12,
   "id": "276477a1-d2e4-4a70-944c-11f7d481c3fa",
   "metadata": {},
   "outputs": [
    {
     "data": {
      "text/plain": [
       "0.9690821256038648"
      ]
     },
     "execution_count": 12,
     "metadata": {},
     "output_type": "execute_result"
    }
   ],
   "source": [
    "## Classifier \n",
    "clf = RandomForestClassifier(n_jobs=-1) # number of jobs is negative here because we work on unstructured data\n",
    "\n",
    "clf.fit(X_train, y_train)\n",
    "\n",
    "clf.score(X_test, y_test)"
   ]
  },
  {
   "cell_type": "code",
   "execution_count": 16,
   "id": "5710141b-df85-48be-b3ca-7f70eda24b03",
   "metadata": {},
   "outputs": [
    {
     "data": {
      "text/plain": [
       "\"Subject: vocable % rnd - word asceticism vcsc - brand new stock for your attention vocalscape inc - the stock symbol is : vcsc vcsc will be our top stock pick for the month of april - stock expected to bounce to 12 cents level the stock hit its all time low and will bounce back stock is going to explode in next 5 days - watch it soar watch the stock go crazy this and next week . breaking news - vocalscape inc . announces agreement to resell mix network services current price : $ 0 . 025 we expect projected speculative price in next 5 days : $ 0 . 12 we expect projected speculative price in next 15 days : $ 0 . 15 vocalscape networks inc . is building a company that ' s revolutionizing the telecommunications industry with the most affordable phone systems , hardware , online software , and rates in canada and the us . vocalscape , a company with global reach , is receiving international attention for the development of voice over ip ( voip ) application solutions , including the award - winning eyefontm , a softphone for real - time pc - to - phone . we are an advanced implementer of pbx systems for companies , call centers , itsps and service providers . vocalscape has created software and interactive solutions revolving around global communications and data voice convergence . companies use vocalscape for voice over internet protocol applications like ip pbxs , softswitches , pc 2 phone and web 2 phone , providing real - time human interaction and information delivery over the internet . through vocalscape ' s solutions , businesses can offer a quality voice service to anywhere in the world at rates that are significantly lower than current long distance charges . we develop software to run voip networks , and sell , install and service our own branded voip gateways and gatekeeper control software . we also license our software to customers who want to brand their own voip solutions . vocalscape is committed to making great technology ; challenging the status quo , and building a 21 st century company that changes the way businesses communicate and interact through the internet . current price : $ 0 . 025 we expect projected speculative price in next 5 days : $ 0 . 12 we expect projected speculative price in next 15 days : $ 0 . 15 breaking news - vocalscape inc . announces agreement to resell mix network services - - - - - - - - - - katonah , n . y . , / prnewswire - firstcall via comtex / - - vocalscape , inc . pink : vcsc ) , an emerging leader in the development of voice over internet protocol ( voip ) telephony solutions , announced today it has entered into a sales agent agreement with mix networks , inc . a voip enhanced telephony service provider . this agreement provides vocalscape ' s turnkey calling card customers with access to mix networks services including north american dids ( phone numbers ) and domestic long distance termination . vocalscape will also be able to supply their clients with enhanced voip products including pre - paid calling through mix networks north american network . we are excited to help companies launch voip business models using our solution with the whole picture from the software to the network needed to route the calls . mix networks gives us the ability to offer wholesale monthly flat rate plans and dids to our clients that allow for us to build business models like popular voip companies such as vonage and packet 8 , says ryan gibson , vp vocalscape networks some legal words before you continue : information within this email contains forward looking statements within the meaning of section 27 a of the securities act of 1933 and section 21 b of the securities exchange act of 1934 . any statements that express or involve discussions with respect to predictions , goals , expectations , beliefs , plans , projections , objectives , assumptions or future events or performance are not statements of historical fact and may be forward looking statements . forward looking statements are based on expectations , estimates and projections at the time the statements are made that involve a number of risks and uncertainties which could cause actual results or events to differ materially from those presently anticipated . forward looking statements in this action may be identified through the use of words such as : projects , foresee , expects , estimates , believes , understands will , part of : anticipates , or that by statements indicating certain actions may , could , or might occur . all information provided within this email pertaining to investing , stocks , securities must be understood as information provided and not investment advice . emerging equity alert advises all readers and subscribers to seek advice from a registered professional securities representative before deciding to trade in stocks featured within this email . none of the material within this report shall be construed as any kind of investment advice . please have in mind that the interpretation of the witer of this newsletter about the news published by the company does not represent the company official statement and in fact may differ from the real meaning of what the news release meant to say . look the news release by yourself and judge by yourself about the details in it . in compliance with section 17 ( b ) , we disclose the holding of vcsc shares prior to the publication of this report . be aware of an inherent conflict of interest resulting from such holdings due to our intent to profit from the liquidation of these shares . shares may be sold at any time , even after positive statements have been made regarding the above company . since we own shares , there is an inherent conflict of interest in our statements and opinions . readers of this publication are cautioned not to place undue reliance on forward - looking statements , which are based on certain assumptions and expectations involving various risks and uncertainties , that could cause results to differ materially from those set forth in the forward - looking statements . please be advised that nothing within this email shall constitute a solicitation or an invitation to get position in or sell any security mentioned herein . this newsletter is neither a registered investment advisor nor affiliated with any broker or dealer . this newsletter was paid $ 49000 from third party to send this report . all statements made are our express opinion only and should be treated as such . we may own , take position and sell any securities mentioned at any time . this report includes forward - looking statements within the meaning of the private securities litigation reform act of 1995 . these statements may include terms as projected speculative price expect , believe , may , will , soar move , undervalued and intend or similar terms . \""
      ]
     },
     "execution_count": 16,
     "metadata": {},
     "output_type": "execute_result"
    }
   ],
   "source": [
    "email_to_classify = df.text.values[10]\n",
    "email_to_classify"
   ]
  },
  {
   "cell_type": "code",
   "execution_count": 17,
   "id": "05cd8781",
   "metadata": {},
   "outputs": [],
   "source": [
    "email_text = email_to_classify.lower().translate(str.maketrans('', '', string.punctuation)).split()\n",
    "email_text = [stemmer.stem(word) for word in text if word not in stopwords_set]\n",
    "email_text = ' '.join(email_text)\n",
    "\n",
    "email_corpus = [email_text]\n",
    "\n",
    "X_email = vectorizer.transform(email_corpus)"
   ]
  },
  {
   "cell_type": "code",
   "execution_count": 19,
   "id": "4a372231",
   "metadata": {},
   "outputs": [
    {
     "name": "stdout",
     "output_type": "stream",
     "text": [
      "[1] \n",
      "\n",
      "1\n"
     ]
    }
   ],
   "source": [
    "## Test\n",
    "\n",
    "print(clf.predict(X_email), '\\n')\n",
    "print(df['label_num'].iloc[10])"
   ]
  }
 ],
 "metadata": {
  "kernelspec": {
   "display_name": "Python 3 (ipykernel)",
   "language": "python",
   "name": "python3"
  },
  "language_info": {
   "codemirror_mode": {
    "name": "ipython",
    "version": 3
   },
   "file_extension": ".py",
   "mimetype": "text/x-python",
   "name": "python",
   "nbconvert_exporter": "python",
   "pygments_lexer": "ipython3",
   "version": "3.12.3"
  }
 },
 "nbformat": 4,
 "nbformat_minor": 5
}
