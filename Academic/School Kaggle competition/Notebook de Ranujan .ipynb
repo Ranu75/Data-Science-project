{
 "cells": [
  {
   "cell_type": "markdown",
   "id": "447436d9-c7a3-4a55-9914-4a46dd87354c",
   "metadata": {},
   "source": [
    "# Kaggle Competition"
   ]
  },
  {
   "cell_type": "markdown",
   "id": "fb314236-4f68-4b50-9e7c-0593dcdba434",
   "metadata": {},
   "source": [
    "## Python Library"
   ]
  },
  {
   "cell_type": "markdown",
   "id": "61fc014d-bae6-4179-a817-f62f42d04707",
   "metadata": {},
   "source": [
    "On génére les libraries essentielles pour faire notre étude. "
   ]
  },
  {
   "cell_type": "code",
   "execution_count": 56,
   "id": "067b07f6-8480-47ce-bc63-1785b704b7b6",
   "metadata": {},
   "outputs": [],
   "source": [
    "import pandas as pd\n",
    "import numpy as np\n",
    "import matplotlib.pyplot as plt\n",
    "\n",
    "from sklearn import datasets\n",
    "from sklearn import preprocessing\n",
    "from sklearn.model_selection import train_test_split\n",
    "from sklearn.linear_model import LinearRegression, RidgeCV, LassoCV\n",
    "from sklearn.model_selection import KFold\n",
    "\n",
    "import seaborn as sns\n",
    "from sklearn import svm\n",
    "from sklearn.datasets import make_blobs\n",
    "from sklearn.model_selection import GridSearchCV # this will do cross validation\n",
    "from sklearn.metrics import mean_absolute_error"
   ]
  },
  {
   "cell_type": "markdown",
   "id": "ae2f73ee-f12f-426e-b23f-e5adcf382bc7",
   "metadata": {},
   "source": [
    "## Import data_train and data_test"
   ]
  },
  {
   "cell_type": "markdown",
   "id": "dd82d074-c297-4507-9fd8-aea15e010970",
   "metadata": {},
   "source": [
    "On importe nos deux données. "
   ]
  },
  {
   "cell_type": "code",
   "execution_count": 57,
   "id": "688964a4-df4f-48ab-8d2a-71329a058588",
   "metadata": {},
   "outputs": [],
   "source": [
    "data = pd.read_csv(\"Train.csv\")\n",
    "data_test = pd.read_csv(\"TestForStudents.csv\")"
   ]
  },
  {
   "cell_type": "code",
   "execution_count": 58,
   "id": "508972f7-fe05-471d-8b96-275b3a05e0d1",
   "metadata": {},
   "outputs": [
    {
     "data": {
      "text/html": [
       "<div>\n",
       "<style scoped>\n",
       "    .dataframe tbody tr th:only-of-type {\n",
       "        vertical-align: middle;\n",
       "    }\n",
       "\n",
       "    .dataframe tbody tr th {\n",
       "        vertical-align: top;\n",
       "    }\n",
       "\n",
       "    .dataframe thead th {\n",
       "        text-align: right;\n",
       "    }\n",
       "</style>\n",
       "<table border=\"1\" class=\"dataframe\">\n",
       "  <thead>\n",
       "    <tr style=\"text-align: right;\">\n",
       "      <th></th>\n",
       "      <th>X1</th>\n",
       "      <th>X2</th>\n",
       "      <th>X3</th>\n",
       "      <th>X4</th>\n",
       "      <th>X5</th>\n",
       "      <th>X6</th>\n",
       "      <th>X7</th>\n",
       "      <th>X8</th>\n",
       "      <th>X9</th>\n",
       "      <th>X10</th>\n",
       "      <th>...</th>\n",
       "      <th>X30</th>\n",
       "      <th>X31</th>\n",
       "      <th>X32</th>\n",
       "      <th>X33</th>\n",
       "      <th>X34</th>\n",
       "      <th>X35</th>\n",
       "      <th>X36</th>\n",
       "      <th>X37</th>\n",
       "      <th>X38</th>\n",
       "      <th>Y</th>\n",
       "    </tr>\n",
       "  </thead>\n",
       "  <tbody>\n",
       "    <tr>\n",
       "      <th>0</th>\n",
       "      <td>634995</td>\n",
       "      <td>0</td>\n",
       "      <td>463</td>\n",
       "      <td>Source1</td>\n",
       "      <td>0</td>\n",
       "      <td>806</td>\n",
       "      <td>11.291045</td>\n",
       "      <td>1.0</td>\n",
       "      <td>70.495138</td>\n",
       "      <td>0</td>\n",
       "      <td>...</td>\n",
       "      <td>1</td>\n",
       "      <td>0</td>\n",
       "      <td>1</td>\n",
       "      <td>1</td>\n",
       "      <td>-1</td>\n",
       "      <td>165</td>\n",
       "      <td>2</td>\n",
       "      <td>24</td>\n",
       "      <td>Friday</td>\n",
       "      <td>0</td>\n",
       "    </tr>\n",
       "    <tr>\n",
       "      <th>1</th>\n",
       "      <td>3995273</td>\n",
       "      <td>0</td>\n",
       "      <td>297147</td>\n",
       "      <td>Source4</td>\n",
       "      <td>43</td>\n",
       "      <td>2007</td>\n",
       "      <td>603.141026</td>\n",
       "      <td>494.5</td>\n",
       "      <td>424.681501</td>\n",
       "      <td>1</td>\n",
       "      <td>...</td>\n",
       "      <td>474</td>\n",
       "      <td>143</td>\n",
       "      <td>331</td>\n",
       "      <td>459</td>\n",
       "      <td>-188</td>\n",
       "      <td>14</td>\n",
       "      <td>324</td>\n",
       "      <td>24</td>\n",
       "      <td>Saturday</td>\n",
       "      <td>31</td>\n",
       "    </tr>\n",
       "    <tr>\n",
       "      <th>2</th>\n",
       "      <td>3995273</td>\n",
       "      <td>0</td>\n",
       "      <td>297147</td>\n",
       "      <td>Source4</td>\n",
       "      <td>43</td>\n",
       "      <td>2007</td>\n",
       "      <td>603.141026</td>\n",
       "      <td>494.5</td>\n",
       "      <td>424.681501</td>\n",
       "      <td>1</td>\n",
       "      <td>...</td>\n",
       "      <td>1033</td>\n",
       "      <td>285</td>\n",
       "      <td>748</td>\n",
       "      <td>943</td>\n",
       "      <td>-463</td>\n",
       "      <td>20</td>\n",
       "      <td>153</td>\n",
       "      <td>24</td>\n",
       "      <td>Monday</td>\n",
       "      <td>55</td>\n",
       "    </tr>\n",
       "    <tr>\n",
       "      <th>3</th>\n",
       "      <td>3995273</td>\n",
       "      <td>0</td>\n",
       "      <td>297147</td>\n",
       "      <td>Source4</td>\n",
       "      <td>43</td>\n",
       "      <td>2007</td>\n",
       "      <td>603.141026</td>\n",
       "      <td>494.5</td>\n",
       "      <td>424.681501</td>\n",
       "      <td>1</td>\n",
       "      <td>...</td>\n",
       "      <td>1521</td>\n",
       "      <td>536</td>\n",
       "      <td>985</td>\n",
       "      <td>1437</td>\n",
       "      <td>-449</td>\n",
       "      <td>28</td>\n",
       "      <td>506</td>\n",
       "      <td>24</td>\n",
       "      <td>Friday</td>\n",
       "      <td>161</td>\n",
       "    </tr>\n",
       "    <tr>\n",
       "      <th>4</th>\n",
       "      <td>3995273</td>\n",
       "      <td>0</td>\n",
       "      <td>297147</td>\n",
       "      <td>Source4</td>\n",
       "      <td>43</td>\n",
       "      <td>2007</td>\n",
       "      <td>603.141026</td>\n",
       "      <td>494.5</td>\n",
       "      <td>424.681501</td>\n",
       "      <td>1</td>\n",
       "      <td>...</td>\n",
       "      <td>271</td>\n",
       "      <td>2</td>\n",
       "      <td>50</td>\n",
       "      <td>259</td>\n",
       "      <td>-48</td>\n",
       "      <td>53</td>\n",
       "      <td>105</td>\n",
       "      <td>24</td>\n",
       "      <td>Saturday</td>\n",
       "      <td>3</td>\n",
       "    </tr>\n",
       "  </tbody>\n",
       "</table>\n",
       "<p>5 rows × 39 columns</p>\n",
       "</div>"
      ],
      "text/plain": [
       "        X1  X2      X3       X4  X5    X6          X7     X8          X9  X10  \\\n",
       "0   634995   0     463  Source1   0   806   11.291045    1.0   70.495138    0   \n",
       "1  3995273   0  297147  Source4  43  2007  603.141026  494.5  424.681501    1   \n",
       "2  3995273   0  297147  Source4  43  2007  603.141026  494.5  424.681501    1   \n",
       "3  3995273   0  297147  Source4  43  2007  603.141026  494.5  424.681501    1   \n",
       "4  3995273   0  297147  Source4  43  2007  603.141026  494.5  424.681501    1   \n",
       "\n",
       "   ...   X30  X31  X32   X33  X34  X35  X36  X37       X38    Y  \n",
       "0  ...     1    0    1     1   -1  165    2   24    Friday    0  \n",
       "1  ...   474  143  331   459 -188   14  324   24  Saturday   31  \n",
       "2  ...  1033  285  748   943 -463   20  153   24    Monday   55  \n",
       "3  ...  1521  536  985  1437 -449   28  506   24    Friday  161  \n",
       "4  ...   271    2   50   259  -48   53  105   24  Saturday    3  \n",
       "\n",
       "[5 rows x 39 columns]"
      ]
     },
     "execution_count": 58,
     "metadata": {},
     "output_type": "execute_result"
    }
   ],
   "source": [
    "data.head()"
   ]
  },
  {
   "cell_type": "code",
   "execution_count": 59,
   "id": "b6fda296-b35e-43d2-8515-64240138db4f",
   "metadata": {},
   "outputs": [
    {
     "name": "stdout",
     "output_type": "stream",
     "text": [
      "<class 'pandas.core.frame.DataFrame'>\n",
      "RangeIndex: 2091 entries, 0 to 2090\n",
      "Data columns (total 39 columns):\n",
      " #   Column  Non-Null Count  Dtype  \n",
      "---  ------  --------------  -----  \n",
      " 0   X1      2091 non-null   int64  \n",
      " 1   X2      2091 non-null   int64  \n",
      " 2   X3      2091 non-null   int64  \n",
      " 3   X4      2091 non-null   object \n",
      " 4   X5      2091 non-null   int64  \n",
      " 5   X6      2091 non-null   int64  \n",
      " 6   X7      2091 non-null   float64\n",
      " 7   X8      2091 non-null   float64\n",
      " 8   X9      2091 non-null   float64\n",
      " 9   X10     2091 non-null   int64  \n",
      " 10  X11     2091 non-null   int64  \n",
      " 11  X12     2091 non-null   float64\n",
      " 12  X13     2091 non-null   float64\n",
      " 13  X14     2091 non-null   float64\n",
      " 14  X15     2091 non-null   int64  \n",
      " 15  X16     2091 non-null   int64  \n",
      " 16  X17     2091 non-null   float64\n",
      " 17  X18     2091 non-null   float64\n",
      " 18  X19     2091 non-null   float64\n",
      " 19  X20     2091 non-null   int64  \n",
      " 20  X21     2091 non-null   int64  \n",
      " 21  X22     2091 non-null   float64\n",
      " 22  X23     2091 non-null   float64\n",
      " 23  X24     2091 non-null   float64\n",
      " 24  X25     2091 non-null   int64  \n",
      " 25  X26     2091 non-null   int64  \n",
      " 26  X27     2091 non-null   float64\n",
      " 27  X28     2091 non-null   float64\n",
      " 28  X29     2091 non-null   float64\n",
      " 29  X30     2091 non-null   int64  \n",
      " 30  X31     2091 non-null   int64  \n",
      " 31  X32     2091 non-null   int64  \n",
      " 32  X33     2091 non-null   int64  \n",
      " 33  X34     2091 non-null   int64  \n",
      " 34  X35     2091 non-null   int64  \n",
      " 35  X36     2091 non-null   int64  \n",
      " 36  X37     2091 non-null   int64  \n",
      " 37  X38     2091 non-null   object \n",
      " 38  Y       2091 non-null   int64  \n",
      "dtypes: float64(15), int64(22), object(2)\n",
      "memory usage: 637.2+ KB\n"
     ]
    }
   ],
   "source": [
    "data.info()"
   ]
  },
  {
   "cell_type": "markdown",
   "id": "301044d5-6bfc-4678-9c1b-9f70a0ae690e",
   "metadata": {},
   "source": [
    "Le données (Train) possède 37 covariables et une variable cible quantitative. Les covariables sont majoritairement quantitative excepté X4 et X38. Nous devons convertir les variables X4 et X38 en float afin de réaliser l'étude. "
   ]
  },
  {
   "cell_type": "markdown",
   "id": "19024ba8-6e5f-423b-8729-bf7fe94b3f73",
   "metadata": {},
   "source": [
    "## Convert to categorical variable "
   ]
  },
  {
   "cell_type": "markdown",
   "id": "5ee367b8-e9b9-4848-9410-e1c6da1a498e",
   "metadata": {},
   "source": [
    "Nous allons donc utiliser le processus LabelEncoder afin d'encoder les variables avant de les scinder en deux échantillons.\n",
    "On effectue maintenant des processus d'encodage pour changer le type des variables X4 et X38. Cela est nécessaire pour changer la valeur des variables. Pour cela, on va convertir les variables en array, puis les recadrer afin d'avoir une matrice colonne. À la suite de ces étapes, on entraîne et on transforme nos variables."
   ]
  },
  {
   "cell_type": "code",
   "execution_count": 60,
   "id": "8be36a0c-e4ae-42fe-84e0-62faa0d8ddd8",
   "metadata": {},
   "outputs": [],
   "source": [
    "from sklearn.preprocessing import LabelEncoder\n",
    "# encode string class values as integers\n",
    "label_encoder = LabelEncoder()\n",
    "label_encoder = label_encoder.fit(data[\"X4\"])\n",
    "X4_encoded = label_encoder.transform(data[\"X4\"])\n",
    "\n",
    "label_encoder2 = LabelEncoder()\n",
    "label_encoder2 = label_encoder.fit(data[\"X38\"])\n",
    "X38_encoded = label_encoder.transform(data[\"X38\"])\n",
    "\n",
    "data.insert(3, \"X4_bis\", X4_encoded, allow_duplicates=False)\n",
    "data.insert(38, \"X38_bis\", X38_encoded, allow_duplicates=False)"
   ]
  },
  {
   "cell_type": "markdown",
   "id": "45f0c05e-2f99-478b-a675-d47f427fdabc",
   "metadata": {},
   "source": [
    "On essaie de voir quel encodage nous avons effectuer pour la variable X4. "
   ]
  },
  {
   "cell_type": "code",
   "execution_count": 63,
   "id": "51c353b2-3f05-450d-b8b3-3abcbad65037",
   "metadata": {},
   "outputs": [
    {
     "name": "stdout",
     "output_type": "stream",
     "text": [
      "Source1 : 0\n",
      "Source4 : 36\n",
      "Source5 : 44\n",
      "Source8 : 67\n",
      "Source9 : 75\n",
      "Source13 : 8\n",
      "Source16 : 11\n",
      "Source17 : 12\n",
      "Source18 : 13\n",
      "Source19 : 14\n",
      "Source20 : 16\n",
      "Source21 : 17\n",
      "Source22 : 18\n",
      "Source23 : 19\n",
      "Source24 : 20\n",
      "Source25 : 21\n",
      "Source14 : 9\n",
      "Source28 : 24\n",
      "Source29 : 25\n",
      "Source30 : 27\n",
      "Source31 : 28\n",
      "Source32 : 29\n",
      "Source36 : 33\n",
      "Source27 : 23\n",
      "Source38 : 34\n",
      "Source39 : 35\n",
      "Source34 : 31\n",
      "Source33 : 30\n",
      "Source46 : 41\n",
      "Source47 : 42\n",
      "Source45 : 40\n",
      "Source49 : 43\n",
      "Source50 : 45\n",
      "Source54 : 47\n",
      "Source44 : 39\n",
      "Source57 : 50\n",
      "Source58 : 51\n",
      "Source60 : 54\n",
      "Source2 : 15\n",
      "Source26 : 22\n",
      "Source67 : 59\n",
      "Source6 : 53\n",
      "Source72 : 61\n",
      "Source73 : 62\n",
      "Source75 : 63\n",
      "Source59 : 52\n",
      "Source76 : 64\n",
      "Source63 : 57\n",
      "Source77 : 65\n",
      "Source42 : 38\n",
      "Source68 : 60\n",
      "Source12 : 7\n",
      "Source79 : 66\n",
      "Source80 : 68\n",
      "Source35 : 32\n",
      "Source81 : 69\n",
      "Source82 : 70\n",
      "Source83 : 71\n",
      "Source10 : 1\n",
      "Source87 : 73\n",
      "Source62 : 56\n",
      "Source89 : 74\n",
      "Source90 : 76\n",
      "Source55 : 48\n",
      "Source11 : 6\n",
      "Source93 : 79\n",
      "Source96 : 80\n",
      "Source100 : 2\n",
      "Source91 : 77\n",
      "Source101 : 3\n",
      "Source85 : 72\n",
      "Source40 : 37\n",
      "Source92 : 78\n",
      "Source51 : 46\n",
      "Source56 : 49\n",
      "Source105 : 4\n",
      "Source15 : 10\n",
      "Source66 : 58\n",
      "Source106 : 5\n",
      "Source61 : 55\n",
      "Source3 : 26\n"
     ]
    }
   ],
   "source": [
    "for k in range(len(data[\"X4\"].unique())):\n",
    "    print(f\"{data.X4.unique()[k]} : {data.X4_bis.unique()[k]}\")"
   ]
  },
  {
   "cell_type": "markdown",
   "id": "fa2147c1-c0ca-443b-8161-19a38b4a946c",
   "metadata": {},
   "source": [
    "On essaie de voir quel encodage nous avons effectuer pour la variable X38. "
   ]
  },
  {
   "cell_type": "code",
   "execution_count": 64,
   "id": "22e4f224-0e5d-48e2-b04c-8529e28ba1c3",
   "metadata": {},
   "outputs": [
    {
     "name": "stdout",
     "output_type": "stream",
     "text": [
      "Friday : 0\n",
      "Saturday : 2\n",
      "Monday : 1\n",
      "Wednesday : 6\n",
      "Sunday : 3\n",
      "Thursday : 4\n",
      "Tuesday : 5\n"
     ]
    }
   ],
   "source": [
    "for k in range(len(data[\"X38\"].unique())):\n",
    "    print(f\"{data.X38.unique()[k]} : {data.X38_bis.unique()[k]}\")"
   ]
  },
  {
   "cell_type": "markdown",
   "id": "e83c1751-689b-44ca-8118-53cd358d7e63",
   "metadata": {},
   "source": [
    "On supprime nos variables X4 et X38 car ils ne servent à rien. "
   ]
  },
  {
   "cell_type": "code",
   "execution_count": 65,
   "id": "4f983d32-d51c-4cc3-8953-994b926004be",
   "metadata": {},
   "outputs": [],
   "source": [
    "data = data.drop([\"X4\", \"X38\"], axis=1)"
   ]
  },
  {
   "cell_type": "markdown",
   "id": "5ffd6eac-9b6e-4205-a683-4965d34ab5b8",
   "metadata": {},
   "source": [
    "On s'assure que les variables sont bien numériques car nous tenterons de faire des régressions vu que la variable cible est numérique."
   ]
  },
  {
   "cell_type": "code",
   "execution_count": 66,
   "id": "42858e0c-82ad-4674-9d4e-241279973491",
   "metadata": {},
   "outputs": [],
   "source": [
    "data = data.apply(pd.to_numeric)"
   ]
  },
  {
   "cell_type": "code",
   "execution_count": 67,
   "id": "c3921250-0bd6-4c8b-b6bd-26ecd0d07727",
   "metadata": {},
   "outputs": [
    {
     "name": "stdout",
     "output_type": "stream",
     "text": [
      "<class 'pandas.core.frame.DataFrame'>\n",
      "RangeIndex: 2091 entries, 0 to 2090\n",
      "Data columns (total 39 columns):\n",
      " #   Column   Non-Null Count  Dtype  \n",
      "---  ------   --------------  -----  \n",
      " 0   X1       2091 non-null   int64  \n",
      " 1   X2       2091 non-null   int64  \n",
      " 2   X3       2091 non-null   int64  \n",
      " 3   X4_bis   2091 non-null   int64  \n",
      " 4   X5       2091 non-null   int64  \n",
      " 5   X6       2091 non-null   int64  \n",
      " 6   X7       2091 non-null   float64\n",
      " 7   X8       2091 non-null   float64\n",
      " 8   X9       2091 non-null   float64\n",
      " 9   X10      2091 non-null   int64  \n",
      " 10  X11      2091 non-null   int64  \n",
      " 11  X12      2091 non-null   float64\n",
      " 12  X13      2091 non-null   float64\n",
      " 13  X14      2091 non-null   float64\n",
      " 14  X15      2091 non-null   int64  \n",
      " 15  X16      2091 non-null   int64  \n",
      " 16  X17      2091 non-null   float64\n",
      " 17  X18      2091 non-null   float64\n",
      " 18  X19      2091 non-null   float64\n",
      " 19  X20      2091 non-null   int64  \n",
      " 20  X21      2091 non-null   int64  \n",
      " 21  X22      2091 non-null   float64\n",
      " 22  X23      2091 non-null   float64\n",
      " 23  X24      2091 non-null   float64\n",
      " 24  X25      2091 non-null   int64  \n",
      " 25  X26      2091 non-null   int64  \n",
      " 26  X27      2091 non-null   float64\n",
      " 27  X28      2091 non-null   float64\n",
      " 28  X29      2091 non-null   float64\n",
      " 29  X30      2091 non-null   int64  \n",
      " 30  X31      2091 non-null   int64  \n",
      " 31  X32      2091 non-null   int64  \n",
      " 32  X33      2091 non-null   int64  \n",
      " 33  X34      2091 non-null   int64  \n",
      " 34  X35      2091 non-null   int64  \n",
      " 35  X36      2091 non-null   int64  \n",
      " 36  X37      2091 non-null   int64  \n",
      " 37  X38_bis  2091 non-null   int64  \n",
      " 38  Y        2091 non-null   int64  \n",
      "dtypes: float64(15), int64(24)\n",
      "memory usage: 637.2 KB\n"
     ]
    }
   ],
   "source": [
    "data.info()"
   ]
  },
  {
   "cell_type": "code",
   "execution_count": 68,
   "id": "4dc73396-970b-4c4a-864a-53c644e4a1c0",
   "metadata": {},
   "outputs": [
    {
     "name": "stdout",
     "output_type": "stream",
     "text": [
      "la taille des données d'entrainement est de 2091x39 \n",
      "\n"
     ]
    }
   ],
   "source": [
    "n1, d1 = data.shape\n",
    "print(f\"la taille des données d'entrainement est de {n1}x{d1} \\n\")"
   ]
  },
  {
   "cell_type": "markdown",
   "id": "c6d8b004-8854-4630-b41f-b9654be8d3e4",
   "metadata": {},
   "source": [
    "## Training and test samples"
   ]
  },
  {
   "cell_type": "markdown",
   "id": "a069a17f-8ab4-49c8-9674-c0fa18209a47",
   "metadata": {},
   "source": [
    "On coupe l'échantillon en deux parties. La première partie (apprentissage) qui se chargera d'apprendre au modèle, et la seconde partie (test) qu'on utilisera pour réaliser le test du modèle pour comparer les valeurs de la variable cible."
   ]
  },
  {
   "cell_type": "code",
   "execution_count": 69,
   "id": "7445e179-26b0-44a9-9c30-c570359bd6fc",
   "metadata": {},
   "outputs": [
    {
     "data": {
      "text/html": [
       "<div>\n",
       "<style scoped>\n",
       "    .dataframe tbody tr th:only-of-type {\n",
       "        vertical-align: middle;\n",
       "    }\n",
       "\n",
       "    .dataframe tbody tr th {\n",
       "        vertical-align: top;\n",
       "    }\n",
       "\n",
       "    .dataframe thead th {\n",
       "        text-align: right;\n",
       "    }\n",
       "</style>\n",
       "<table border=\"1\" class=\"dataframe\">\n",
       "  <thead>\n",
       "    <tr style=\"text-align: right;\">\n",
       "      <th></th>\n",
       "      <th>X1</th>\n",
       "      <th>X2</th>\n",
       "      <th>X3</th>\n",
       "      <th>X4_bis</th>\n",
       "      <th>X5</th>\n",
       "      <th>X6</th>\n",
       "      <th>X7</th>\n",
       "      <th>X8</th>\n",
       "      <th>X9</th>\n",
       "      <th>X10</th>\n",
       "      <th>...</th>\n",
       "      <th>X29</th>\n",
       "      <th>X30</th>\n",
       "      <th>X31</th>\n",
       "      <th>X32</th>\n",
       "      <th>X33</th>\n",
       "      <th>X34</th>\n",
       "      <th>X35</th>\n",
       "      <th>X36</th>\n",
       "      <th>X37</th>\n",
       "      <th>X38_bis</th>\n",
       "    </tr>\n",
       "  </thead>\n",
       "  <tbody>\n",
       "    <tr>\n",
       "      <th>0</th>\n",
       "      <td>634995</td>\n",
       "      <td>0</td>\n",
       "      <td>463</td>\n",
       "      <td>0</td>\n",
       "      <td>0</td>\n",
       "      <td>806</td>\n",
       "      <td>11.291045</td>\n",
       "      <td>1.0</td>\n",
       "      <td>70.495138</td>\n",
       "      <td>0</td>\n",
       "      <td>...</td>\n",
       "      <td>69.850580</td>\n",
       "      <td>1</td>\n",
       "      <td>0</td>\n",
       "      <td>1</td>\n",
       "      <td>1</td>\n",
       "      <td>-1</td>\n",
       "      <td>165</td>\n",
       "      <td>2</td>\n",
       "      <td>24</td>\n",
       "      <td>0</td>\n",
       "    </tr>\n",
       "    <tr>\n",
       "      <th>1</th>\n",
       "      <td>3995273</td>\n",
       "      <td>0</td>\n",
       "      <td>297147</td>\n",
       "      <td>36</td>\n",
       "      <td>43</td>\n",
       "      <td>2007</td>\n",
       "      <td>603.141026</td>\n",
       "      <td>494.5</td>\n",
       "      <td>424.681501</td>\n",
       "      <td>1</td>\n",
       "      <td>...</td>\n",
       "      <td>481.588874</td>\n",
       "      <td>474</td>\n",
       "      <td>143</td>\n",
       "      <td>331</td>\n",
       "      <td>459</td>\n",
       "      <td>-188</td>\n",
       "      <td>14</td>\n",
       "      <td>324</td>\n",
       "      <td>24</td>\n",
       "      <td>2</td>\n",
       "    </tr>\n",
       "    <tr>\n",
       "      <th>2</th>\n",
       "      <td>3995273</td>\n",
       "      <td>0</td>\n",
       "      <td>297147</td>\n",
       "      <td>36</td>\n",
       "      <td>43</td>\n",
       "      <td>2007</td>\n",
       "      <td>603.141026</td>\n",
       "      <td>494.5</td>\n",
       "      <td>424.681501</td>\n",
       "      <td>1</td>\n",
       "      <td>...</td>\n",
       "      <td>481.588874</td>\n",
       "      <td>1033</td>\n",
       "      <td>285</td>\n",
       "      <td>748</td>\n",
       "      <td>943</td>\n",
       "      <td>-463</td>\n",
       "      <td>20</td>\n",
       "      <td>153</td>\n",
       "      <td>24</td>\n",
       "      <td>1</td>\n",
       "    </tr>\n",
       "    <tr>\n",
       "      <th>3</th>\n",
       "      <td>3995273</td>\n",
       "      <td>0</td>\n",
       "      <td>297147</td>\n",
       "      <td>36</td>\n",
       "      <td>43</td>\n",
       "      <td>2007</td>\n",
       "      <td>603.141026</td>\n",
       "      <td>494.5</td>\n",
       "      <td>424.681501</td>\n",
       "      <td>1</td>\n",
       "      <td>...</td>\n",
       "      <td>481.588874</td>\n",
       "      <td>1521</td>\n",
       "      <td>536</td>\n",
       "      <td>985</td>\n",
       "      <td>1437</td>\n",
       "      <td>-449</td>\n",
       "      <td>28</td>\n",
       "      <td>506</td>\n",
       "      <td>24</td>\n",
       "      <td>0</td>\n",
       "    </tr>\n",
       "    <tr>\n",
       "      <th>4</th>\n",
       "      <td>3995273</td>\n",
       "      <td>0</td>\n",
       "      <td>297147</td>\n",
       "      <td>36</td>\n",
       "      <td>43</td>\n",
       "      <td>2007</td>\n",
       "      <td>603.141026</td>\n",
       "      <td>494.5</td>\n",
       "      <td>424.681501</td>\n",
       "      <td>1</td>\n",
       "      <td>...</td>\n",
       "      <td>481.588874</td>\n",
       "      <td>271</td>\n",
       "      <td>2</td>\n",
       "      <td>50</td>\n",
       "      <td>259</td>\n",
       "      <td>-48</td>\n",
       "      <td>53</td>\n",
       "      <td>105</td>\n",
       "      <td>24</td>\n",
       "      <td>2</td>\n",
       "    </tr>\n",
       "  </tbody>\n",
       "</table>\n",
       "<p>5 rows × 38 columns</p>\n",
       "</div>"
      ],
      "text/plain": [
       "        X1  X2      X3  X4_bis  X5    X6          X7     X8          X9  X10  \\\n",
       "0   634995   0     463       0   0   806   11.291045    1.0   70.495138    0   \n",
       "1  3995273   0  297147      36  43  2007  603.141026  494.5  424.681501    1   \n",
       "2  3995273   0  297147      36  43  2007  603.141026  494.5  424.681501    1   \n",
       "3  3995273   0  297147      36  43  2007  603.141026  494.5  424.681501    1   \n",
       "4  3995273   0  297147      36  43  2007  603.141026  494.5  424.681501    1   \n",
       "\n",
       "   ...         X29   X30  X31  X32   X33  X34  X35  X36  X37  X38_bis  \n",
       "0  ...   69.850580     1    0    1     1   -1  165    2   24        0  \n",
       "1  ...  481.588874   474  143  331   459 -188   14  324   24        2  \n",
       "2  ...  481.588874  1033  285  748   943 -463   20  153   24        1  \n",
       "3  ...  481.588874  1521  536  985  1437 -449   28  506   24        0  \n",
       "4  ...  481.588874   271    2   50   259  -48   53  105   24        2  \n",
       "\n",
       "[5 rows x 38 columns]"
      ]
     },
     "execution_count": 69,
     "metadata": {},
     "output_type": "execute_result"
    }
   ],
   "source": [
    "X = data.drop([\"Y\"], axis=1).copy()\n",
    "X.head()"
   ]
  },
  {
   "cell_type": "markdown",
   "id": "da918208-d89f-4125-8785-3b7440d39ac4",
   "metadata": {},
   "source": [
    "## Heatmap of correlation matrix \n",
    "\n",
    "Il peut être intéressant d'étuder la corrélation entre les variables. "
   ]
  },
  {
   "cell_type": "code",
   "execution_count": 70,
   "id": "1034f7db-9b4d-4d50-b9bc-90b43078ed85",
   "metadata": {},
   "outputs": [
    {
     "data": {
      "text/plain": [
       "Text(0.5, 1.0, 'Covariance Matrix')"
      ]
     },
     "execution_count": 70,
     "metadata": {},
     "output_type": "execute_result"
    },
    {
     "data": {
      "image/png": "[encoded data removed]",
      "text/plain": [
       "<Figure size 1368x1080 with 2 Axes>"
      ]
     },
     "metadata": {
      "needs_background": "light"
     },
     "output_type": "display_data"
    }
   ],
   "source": [
    "df = pd.DataFrame(X)\n",
    "corr_df = df.corr(method='pearson') \n",
    "f = plt.figure(figsize=(19, 15))\n",
    "sns.heatmap(corr_df)\n",
    "#cb.ax.tick_params(label=FALSE,labelsize=0)\n",
    "plt.title('Covariance Matrix', fontsize=16)"
   ]
  },
  {
   "cell_type": "code",
   "execution_count": 71,
   "id": "fbbff6d9-20d7-4742-9f65-e10877ef79e6",
   "metadata": {},
   "outputs": [
    {
     "data": {
      "text/plain": [
       "0      0\n",
       "1     31\n",
       "2     55\n",
       "3    161\n",
       "4      3\n",
       "Name: Y, dtype: int64"
      ]
     },
     "execution_count": 71,
     "metadata": {},
     "output_type": "execute_result"
    }
   ],
   "source": [
    "Y = data[\"Y\"].copy()\n",
    "Y.head()"
   ]
  },
  {
   "cell_type": "code",
   "execution_count": 72,
   "id": "9ddc8e0a-b546-4624-833b-04e7a7128fb7",
   "metadata": {},
   "outputs": [
    {
     "name": "stdout",
     "output_type": "stream",
     "text": [
      "(1672, 38) (419, 38)\n"
     ]
    }
   ],
   "source": [
    "X_train, X_test, y_train, y_test = train_test_split(X, Y, test_size = 0.2,\n",
    "                                                    random_state=2)\n",
    "n_train, _ = X_train.shape\n",
    "print(X_train.shape, X_test.shape)"
   ]
  },
  {
   "cell_type": "markdown",
   "id": "6da34e04-b480-4735-8a7e-8410e2d84cb1",
   "metadata": {},
   "source": [
    "Pour choisir le meilleur modèle, nous allons entraîner différent modèle de régression et évaluer via la métrique MAE. À la fin, nous nous concerterons pour choisir le meilleur modèle. Pour calculer la MAE, nous utiliserons la fonction mean_absolute_error du modèle scikit_learn.metrics. "
   ]
  },
  {
   "cell_type": "markdown",
   "id": "da471191-fe15-47bb-928a-de3dea05cbec",
   "metadata": {},
   "source": [
    "# Simple Learning Model"
   ]
  },
  {
   "cell_type": "markdown",
   "id": "2fd00640-3d6c-42b8-b996-64e2b89bb9b6",
   "metadata": {},
   "source": [
    "Pour chaque modèle possible, nous effectuerons une validation croisée de 10 blocs pour optimiser les hyperparamètres afin d'avoir le meilleur modèle possible. Pour les régressions Lasso et Ridge, cette procédure est directement mis en avant dans les paramètres. "
   ]
  },
  {
   "cell_type": "markdown",
   "id": "08c70aac-cfb6-4705-874b-0c6618fd548c",
   "metadata": {},
   "source": [
    "## Linear Regression"
   ]
  },
  {
   "cell_type": "code",
   "execution_count": 73,
   "id": "c6fe728d-c77b-4c45-9cbe-c2d9dade105c",
   "metadata": {},
   "outputs": [
    {
     "data": {
      "text/plain": [
       "LinearRegression(normalize=True)"
      ]
     },
     "execution_count": 73,
     "metadata": {},
     "output_type": "execute_result"
    }
   ],
   "source": [
    "reg = LinearRegression(normalize=True)\n",
    "reg.fit(X_train, y_train)"
   ]
  },
  {
   "cell_type": "code",
   "execution_count": 74,
   "id": "118c5c6e-79d4-4172-8dc7-dad6007724fd",
   "metadata": {},
   "outputs": [
    {
     "name": "stdout",
     "output_type": "stream",
     "text": [
      "MAE of Linear Regression: 7.601\n"
     ]
    }
   ],
   "source": [
    "y_test_pred_reg = reg.predict(X_test)\n",
    "MAE_reg=mean_absolute_error(y_test_pred_reg, y_test)\n",
    "print(\"MAE of Linear Regression:\",\"%.3f\" %  MAE_reg)"
   ]
  },
  {
   "cell_type": "markdown",
   "id": "d273f1ce-ba38-4e39-952e-2ae46ab0895d",
   "metadata": {},
   "source": [
    "On trouve un $R^{2}$ très inférieur à 0.5 et une MSE est très élevée. Cela signifique le modèle est très mauvais."
   ]
  },
  {
   "cell_type": "markdown",
   "id": "fea60ff3-809b-4ca2-a802-f417583551c4",
   "metadata": {},
   "source": [
    "## LASSO Regression"
   ]
  },
  {
   "cell_type": "markdown",
   "id": "f2d603c8-bb6d-4f47-bbb1-a4db36616575",
   "metadata": {},
   "source": [
    "Il faut optimiser nos paramètres afin d'avoir le meilleur modèle possible. "
   ]
  },
  {
   "cell_type": "code",
   "execution_count": 75,
   "id": "6481f03b-a6b0-469b-b550-9c420a885584",
   "metadata": {},
   "outputs": [
    {
     "name": "stdout",
     "output_type": "stream",
     "text": [
      "40\n",
      "MAE of LASSO: 6.807\n"
     ]
    }
   ],
   "source": [
    "lasso = LassoCV(alphas = [k*10 for k in range(2,10)], cv=10)\n",
    "lasso.fit(X_train, y_train)\n",
    "\n",
    "# The estimator chose automatically its lambda:\n",
    "print(lasso.alpha_)\n",
    "\n",
    "y_test_pred_lasso = lasso.predict(X_test)\n",
    "MAE_lasso=mean_absolute_error(y_test_pred_lasso, y_test)\n",
    "print(\"MAE of LASSO:\",\"%.3f\" %  MAE_lasso)"
   ]
  },
  {
   "cell_type": "markdown",
   "id": "934e639e-96e8-4c9d-85fa-861b0eb21815",
   "metadata": {},
   "source": [
    "## Linear Regression with selected variables via Lasso penalization"
   ]
  },
  {
   "cell_type": "markdown",
   "id": "75dd0acd-ae9d-4c56-a846-731118108e13",
   "metadata": {},
   "source": [
    "Nous réaliserons une régression linéaire avec les variables sélectionnés par la pénalisation Lasso (norme L1). Pour sélectionner les variables, nous nous intéresserons aux coefficients des variables qui sont différents de 0. "
   ]
  },
  {
   "cell_type": "code",
   "execution_count": 76,
   "id": "833ba012-a73e-4900-9896-e9d61723320c",
   "metadata": {},
   "outputs": [
    {
     "name": "stdout",
     "output_type": "stream",
     "text": [
      "Selected variables with LASSO 6 \n"
     ]
    }
   ],
   "source": [
    "print(\"Selected variables with LASSO %s \" % np.sum(lasso.coef_ > 0 ))"
   ]
  },
  {
   "cell_type": "code",
   "execution_count": 77,
   "id": "6677cc08-1bce-48ff-87b1-8efd604c425d",
   "metadata": {},
   "outputs": [],
   "source": [
    "variable_select = []\n",
    "for k in range(len(X.columns)):\n",
    "    if lasso.coef_[k] == False : \n",
    "        variable_select.append(X_train.columns[k])"
   ]
  },
  {
   "cell_type": "code",
   "execution_count": 78,
   "id": "0ac594d9-6594-4e12-bf55-21b00a876ecc",
   "metadata": {},
   "outputs": [
    {
     "data": {
      "text/plain": [
       "LinearRegression()"
      ]
     },
     "execution_count": 78,
     "metadata": {},
     "output_type": "execute_result"
    }
   ],
   "source": [
    "X_train_sel_lasso = X_train.drop(variable_select, axis=1).copy()\n",
    "X_test_sel_lasso = X_test.drop(variable_select, axis=1).copy()\n",
    "\n",
    "regr2Lasso = LinearRegression()\n",
    "regr2Lasso.fit(X_train_sel_lasso, y_train)"
   ]
  },
  {
   "cell_type": "code",
   "execution_count": 79,
   "id": "3f501194-71f5-4233-9055-e86d42892f15",
   "metadata": {},
   "outputs": [
    {
     "name": "stdout",
     "output_type": "stream",
     "text": [
      "MAE of LASSOLS: 6.844\n"
     ]
    }
   ],
   "source": [
    "y_test_pred_lassols = regr2Lasso.predict(X_test_sel_lasso)\n",
    "\n",
    "MAE_LSLASSO = mean_absolute_error(y_test_pred_lassols, y_test)\n",
    "print(\"MAE of LASSOLS:\",\"%.3f\" %  MAE_LSLASSO)"
   ]
  },
  {
   "cell_type": "markdown",
   "id": "0656ddf4-5c64-4250-a694-01c06e09971d",
   "metadata": {},
   "source": [
    "## RIDGE Regression"
   ]
  },
  {
   "cell_type": "code",
   "execution_count": 80,
   "id": "be589528-a657-4c0e-8e82-92fc8dded7de",
   "metadata": {},
   "outputs": [
    {
     "name": "stderr",
     "output_type": "stream",
     "text": [
      "/opt/tljh/user/lib/python3.7/site-packages/sklearn/linear_model/_ridge.py:148: LinAlgWarning: Ill-conditioned matrix (rcond=1.58832e-18): result may not be accurate.\n",
      "  overwrite_a=True).T\n",
      "/opt/tljh/user/lib/python3.7/site-packages/sklearn/linear_model/_ridge.py:148: LinAlgWarning: Ill-conditioned matrix (rcond=1.61075e-18): result may not be accurate.\n",
      "  overwrite_a=True).T\n",
      "/opt/tljh/user/lib/python3.7/site-packages/sklearn/linear_model/_ridge.py:148: LinAlgWarning: Ill-conditioned matrix (rcond=1.6071e-18): result may not be accurate.\n",
      "  overwrite_a=True).T\n",
      "/opt/tljh/user/lib/python3.7/site-packages/sklearn/linear_model/_ridge.py:148: LinAlgWarning: Ill-conditioned matrix (rcond=2.75379e-18): result may not be accurate.\n",
      "  overwrite_a=True).T\n",
      "/opt/tljh/user/lib/python3.7/site-packages/sklearn/linear_model/_ridge.py:148: LinAlgWarning: Ill-conditioned matrix (rcond=1.61042e-18): result may not be accurate.\n",
      "  overwrite_a=True).T\n",
      "/opt/tljh/user/lib/python3.7/site-packages/sklearn/linear_model/_ridge.py:148: LinAlgWarning: Ill-conditioned matrix (rcond=2.72136e-18): result may not be accurate.\n",
      "  overwrite_a=True).T\n",
      "/opt/tljh/user/lib/python3.7/site-packages/sklearn/linear_model/_ridge.py:148: LinAlgWarning: Ill-conditioned matrix (rcond=1.5935e-18): result may not be accurate.\n",
      "  overwrite_a=True).T\n",
      "/opt/tljh/user/lib/python3.7/site-packages/sklearn/linear_model/_ridge.py:148: LinAlgWarning: Ill-conditioned matrix (rcond=1.60145e-18): result may not be accurate.\n",
      "  overwrite_a=True).T\n",
      "/opt/tljh/user/lib/python3.7/site-packages/sklearn/linear_model/_ridge.py:148: LinAlgWarning: Ill-conditioned matrix (rcond=1.59541e-18): result may not be accurate.\n",
      "  overwrite_a=True).T\n",
      "/opt/tljh/user/lib/python3.7/site-packages/sklearn/linear_model/_ridge.py:148: LinAlgWarning: Ill-conditioned matrix (rcond=1.61305e-18): result may not be accurate.\n",
      "  overwrite_a=True).T\n",
      "/opt/tljh/user/lib/python3.7/site-packages/sklearn/linear_model/_ridge.py:148: LinAlgWarning: Ill-conditioned matrix (rcond=3.17638e-18): result may not be accurate.\n",
      "  overwrite_a=True).T\n",
      "/opt/tljh/user/lib/python3.7/site-packages/sklearn/linear_model/_ridge.py:148: LinAlgWarning: Ill-conditioned matrix (rcond=3.22131e-18): result may not be accurate.\n",
      "  overwrite_a=True).T\n",
      "/opt/tljh/user/lib/python3.7/site-packages/sklearn/linear_model/_ridge.py:148: LinAlgWarning: Ill-conditioned matrix (rcond=3.21397e-18): result may not be accurate.\n",
      "  overwrite_a=True).T\n",
      "/opt/tljh/user/lib/python3.7/site-packages/sklearn/linear_model/_ridge.py:148: LinAlgWarning: Ill-conditioned matrix (rcond=5.50719e-18): result may not be accurate.\n",
      "  overwrite_a=True).T\n",
      "/opt/tljh/user/lib/python3.7/site-packages/sklearn/linear_model/_ridge.py:148: LinAlgWarning: Ill-conditioned matrix (rcond=3.22071e-18): result may not be accurate.\n",
      "  overwrite_a=True).T\n",
      "/opt/tljh/user/lib/python3.7/site-packages/sklearn/linear_model/_ridge.py:148: LinAlgWarning: Ill-conditioned matrix (rcond=5.44235e-18): result may not be accurate.\n",
      "  overwrite_a=True).T\n",
      "/opt/tljh/user/lib/python3.7/site-packages/sklearn/linear_model/_ridge.py:148: LinAlgWarning: Ill-conditioned matrix (rcond=3.18681e-18): result may not be accurate.\n",
      "  overwrite_a=True).T\n",
      "/opt/tljh/user/lib/python3.7/site-packages/sklearn/linear_model/_ridge.py:148: LinAlgWarning: Ill-conditioned matrix (rcond=3.20274e-18): result may not be accurate.\n",
      "  overwrite_a=True).T\n",
      "/opt/tljh/user/lib/python3.7/site-packages/sklearn/linear_model/_ridge.py:148: LinAlgWarning: Ill-conditioned matrix (rcond=3.19056e-18): result may not be accurate.\n",
      "  overwrite_a=True).T\n",
      "/opt/tljh/user/lib/python3.7/site-packages/sklearn/linear_model/_ridge.py:148: LinAlgWarning: Ill-conditioned matrix (rcond=3.22588e-18): result may not be accurate.\n",
      "  overwrite_a=True).T\n",
      "/opt/tljh/user/lib/python3.7/site-packages/sklearn/linear_model/_ridge.py:148: LinAlgWarning: Ill-conditioned matrix (rcond=4.7642e-18): result may not be accurate.\n",
      "  overwrite_a=True).T\n",
      "/opt/tljh/user/lib/python3.7/site-packages/sklearn/linear_model/_ridge.py:148: LinAlgWarning: Ill-conditioned matrix (rcond=4.83167e-18): result may not be accurate.\n",
      "  overwrite_a=True).T\n",
      "/opt/tljh/user/lib/python3.7/site-packages/sklearn/linear_model/_ridge.py:148: LinAlgWarning: Ill-conditioned matrix (rcond=4.82061e-18): result may not be accurate.\n",
      "  overwrite_a=True).T\n",
      "/opt/tljh/user/lib/python3.7/site-packages/sklearn/linear_model/_ridge.py:148: LinAlgWarning: Ill-conditioned matrix (rcond=8.26019e-18): result may not be accurate.\n",
      "  overwrite_a=True).T\n",
      "/opt/tljh/user/lib/python3.7/site-packages/sklearn/linear_model/_ridge.py:148: LinAlgWarning: Ill-conditioned matrix (rcond=4.83088e-18): result may not be accurate.\n",
      "  overwrite_a=True).T\n",
      "/opt/tljh/user/lib/python3.7/site-packages/sklearn/linear_model/_ridge.py:148: LinAlgWarning: Ill-conditioned matrix (rcond=8.16296e-18): result may not be accurate.\n",
      "  overwrite_a=True).T\n",
      "/opt/tljh/user/lib/python3.7/site-packages/sklearn/linear_model/_ridge.py:148: LinAlgWarning: Ill-conditioned matrix (rcond=4.77993e-18): result may not be accurate.\n",
      "  overwrite_a=True).T\n",
      "/opt/tljh/user/lib/python3.7/site-packages/sklearn/linear_model/_ridge.py:148: LinAlgWarning: Ill-conditioned matrix (rcond=4.80384e-18): result may not be accurate.\n",
      "  overwrite_a=True).T\n",
      "/opt/tljh/user/lib/python3.7/site-packages/sklearn/linear_model/_ridge.py:148: LinAlgWarning: Ill-conditioned matrix (rcond=4.78546e-18): result may not be accurate.\n",
      "  overwrite_a=True).T\n",
      "/opt/tljh/user/lib/python3.7/site-packages/sklearn/linear_model/_ridge.py:148: LinAlgWarning: Ill-conditioned matrix (rcond=4.8385e-18): result may not be accurate.\n",
      "  overwrite_a=True).T\n",
      "/opt/tljh/user/lib/python3.7/site-packages/sklearn/linear_model/_ridge.py:148: LinAlgWarning: Ill-conditioned matrix (rcond=6.35175e-18): result may not be accurate.\n",
      "  overwrite_a=True).T\n",
      "/opt/tljh/user/lib/python3.7/site-packages/sklearn/linear_model/_ridge.py:148: LinAlgWarning: Ill-conditioned matrix (rcond=6.44185e-18): result may not be accurate.\n",
      "  overwrite_a=True).T\n",
      "/opt/tljh/user/lib/python3.7/site-packages/sklearn/linear_model/_ridge.py:148: LinAlgWarning: Ill-conditioned matrix (rcond=6.42703e-18): result may not be accurate.\n",
      "  overwrite_a=True).T\n",
      "/opt/tljh/user/lib/python3.7/site-packages/sklearn/linear_model/_ridge.py:148: LinAlgWarning: Ill-conditioned matrix (rcond=1.10128e-17): result may not be accurate.\n",
      "  overwrite_a=True).T\n",
      "/opt/tljh/user/lib/python3.7/site-packages/sklearn/linear_model/_ridge.py:148: LinAlgWarning: Ill-conditioned matrix (rcond=6.44093e-18): result may not be accurate.\n",
      "  overwrite_a=True).T\n",
      "/opt/tljh/user/lib/python3.7/site-packages/sklearn/linear_model/_ridge.py:148: LinAlgWarning: Ill-conditioned matrix (rcond=1.08832e-17): result may not be accurate.\n",
      "  overwrite_a=True).T\n",
      "/opt/tljh/user/lib/python3.7/site-packages/sklearn/linear_model/_ridge.py:148: LinAlgWarning: Ill-conditioned matrix (rcond=6.37285e-18): result may not be accurate.\n",
      "  overwrite_a=True).T\n",
      "/opt/tljh/user/lib/python3.7/site-packages/sklearn/linear_model/_ridge.py:148: LinAlgWarning: Ill-conditioned matrix (rcond=6.40478e-18): result may not be accurate.\n",
      "  overwrite_a=True).T\n",
      "/opt/tljh/user/lib/python3.7/site-packages/sklearn/linear_model/_ridge.py:148: LinAlgWarning: Ill-conditioned matrix (rcond=6.38011e-18): result may not be accurate.\n",
      "  overwrite_a=True).T\n",
      "/opt/tljh/user/lib/python3.7/site-packages/sklearn/linear_model/_ridge.py:148: LinAlgWarning: Ill-conditioned matrix (rcond=6.4509e-18): result may not be accurate.\n",
      "  overwrite_a=True).T\n",
      "/opt/tljh/user/lib/python3.7/site-packages/sklearn/linear_model/_ridge.py:148: LinAlgWarning: Ill-conditioned matrix (rcond=7.93906e-18): result may not be accurate.\n",
      "  overwrite_a=True).T\n",
      "/opt/tljh/user/lib/python3.7/site-packages/sklearn/linear_model/_ridge.py:148: LinAlgWarning: Ill-conditioned matrix (rcond=8.05183e-18): result may not be accurate.\n",
      "  overwrite_a=True).T\n",
      "/opt/tljh/user/lib/python3.7/site-packages/sklearn/linear_model/_ridge.py:148: LinAlgWarning: Ill-conditioned matrix (rcond=8.03323e-18): result may not be accurate.\n",
      "  overwrite_a=True).T\n",
      "/opt/tljh/user/lib/python3.7/site-packages/sklearn/linear_model/_ridge.py:148: LinAlgWarning: Ill-conditioned matrix (rcond=1.3765e-17): result may not be accurate.\n",
      "  overwrite_a=True).T\n",
      "/opt/tljh/user/lib/python3.7/site-packages/sklearn/linear_model/_ridge.py:148: LinAlgWarning: Ill-conditioned matrix (rcond=8.05086e-18): result may not be accurate.\n",
      "  overwrite_a=True).T\n",
      "/opt/tljh/user/lib/python3.7/site-packages/sklearn/linear_model/_ridge.py:148: LinAlgWarning: Ill-conditioned matrix (rcond=1.36031e-17): result may not be accurate.\n",
      "  overwrite_a=True).T\n",
      "/opt/tljh/user/lib/python3.7/site-packages/sklearn/linear_model/_ridge.py:148: LinAlgWarning: Ill-conditioned matrix (rcond=7.96557e-18): result may not be accurate.\n",
      "  overwrite_a=True).T\n",
      "/opt/tljh/user/lib/python3.7/site-packages/sklearn/linear_model/_ridge.py:148: LinAlgWarning: Ill-conditioned matrix (rcond=8.00555e-18): result may not be accurate.\n",
      "  overwrite_a=True).T\n",
      "/opt/tljh/user/lib/python3.7/site-packages/sklearn/linear_model/_ridge.py:148: LinAlgWarning: Ill-conditioned matrix (rcond=7.9745e-18): result may not be accurate.\n",
      "  overwrite_a=True).T\n",
      "/opt/tljh/user/lib/python3.7/site-packages/sklearn/linear_model/_ridge.py:148: LinAlgWarning: Ill-conditioned matrix (rcond=8.0631e-18): result may not be accurate.\n",
      "  overwrite_a=True).T\n",
      "/opt/tljh/user/lib/python3.7/site-packages/sklearn/linear_model/_ridge.py:148: LinAlgWarning: Ill-conditioned matrix (rcond=9.52612e-18): result may not be accurate.\n",
      "  overwrite_a=True).T\n",
      "/opt/tljh/user/lib/python3.7/site-packages/sklearn/linear_model/_ridge.py:148: LinAlgWarning: Ill-conditioned matrix (rcond=9.66163e-18): result may not be accurate.\n",
      "  overwrite_a=True).T\n",
      "/opt/tljh/user/lib/python3.7/site-packages/sklearn/linear_model/_ridge.py:148: LinAlgWarning: Ill-conditioned matrix (rcond=9.6392e-18): result may not be accurate.\n",
      "  overwrite_a=True).T\n",
      "/opt/tljh/user/lib/python3.7/site-packages/sklearn/linear_model/_ridge.py:148: LinAlgWarning: Ill-conditioned matrix (rcond=1.65168e-17): result may not be accurate.\n",
      "  overwrite_a=True).T\n",
      "/opt/tljh/user/lib/python3.7/site-packages/sklearn/linear_model/_ridge.py:148: LinAlgWarning: Ill-conditioned matrix (rcond=9.66067e-18): result may not be accurate.\n",
      "  overwrite_a=True).T\n",
      "/opt/tljh/user/lib/python3.7/site-packages/sklearn/linear_model/_ridge.py:148: LinAlgWarning: Ill-conditioned matrix (rcond=1.63226e-17): result may not be accurate.\n",
      "  overwrite_a=True).T\n",
      "/opt/tljh/user/lib/python3.7/site-packages/sklearn/linear_model/_ridge.py:148: LinAlgWarning: Ill-conditioned matrix (rcond=9.5581e-18): result may not be accurate.\n",
      "  overwrite_a=True).T\n",
      "/opt/tljh/user/lib/python3.7/site-packages/sklearn/linear_model/_ridge.py:148: LinAlgWarning: Ill-conditioned matrix (rcond=9.60614e-18): result may not be accurate.\n",
      "  overwrite_a=True).T\n",
      "/opt/tljh/user/lib/python3.7/site-packages/sklearn/linear_model/_ridge.py:148: LinAlgWarning: Ill-conditioned matrix (rcond=9.56865e-18): result may not be accurate.\n",
      "  overwrite_a=True).T\n",
      "/opt/tljh/user/lib/python3.7/site-packages/sklearn/linear_model/_ridge.py:148: LinAlgWarning: Ill-conditioned matrix (rcond=9.67508e-18): result may not be accurate.\n",
      "  overwrite_a=True).T\n",
      "/opt/tljh/user/lib/python3.7/site-packages/sklearn/linear_model/_ridge.py:148: LinAlgWarning: Ill-conditioned matrix (rcond=1.11129e-17): result may not be accurate.\n",
      "  overwrite_a=True).T\n",
      "/opt/tljh/user/lib/python3.7/site-packages/sklearn/linear_model/_ridge.py:148: LinAlgWarning: Ill-conditioned matrix (rcond=1.12712e-17): result may not be accurate.\n",
      "  overwrite_a=True).T\n",
      "/opt/tljh/user/lib/python3.7/site-packages/sklearn/linear_model/_ridge.py:148: LinAlgWarning: Ill-conditioned matrix (rcond=1.12449e-17): result may not be accurate.\n",
      "  overwrite_a=True).T\n",
      "/opt/tljh/user/lib/python3.7/site-packages/sklearn/linear_model/_ridge.py:148: LinAlgWarning: Ill-conditioned matrix (rcond=1.92683e-17): result may not be accurate.\n",
      "  overwrite_a=True).T\n",
      "/opt/tljh/user/lib/python3.7/site-packages/sklearn/linear_model/_ridge.py:148: LinAlgWarning: Ill-conditioned matrix (rcond=1.12704e-17): result may not be accurate.\n",
      "  overwrite_a=True).T\n",
      "/opt/tljh/user/lib/python3.7/site-packages/sklearn/linear_model/_ridge.py:148: LinAlgWarning: Ill-conditioned matrix (rcond=1.90418e-17): result may not be accurate.\n",
      "  overwrite_a=True).T\n",
      "/opt/tljh/user/lib/python3.7/site-packages/sklearn/linear_model/_ridge.py:148: LinAlgWarning: Ill-conditioned matrix (rcond=1.11504e-17): result may not be accurate.\n",
      "  overwrite_a=True).T\n",
      "/opt/tljh/user/lib/python3.7/site-packages/sklearn/linear_model/_ridge.py:148: LinAlgWarning: Ill-conditioned matrix (rcond=1.12066e-17): result may not be accurate.\n",
      "  overwrite_a=True).T\n",
      "/opt/tljh/user/lib/python3.7/site-packages/sklearn/linear_model/_ridge.py:148: LinAlgWarning: Ill-conditioned matrix (rcond=1.11625e-17): result may not be accurate.\n",
      "  overwrite_a=True).T\n",
      "/opt/tljh/user/lib/python3.7/site-packages/sklearn/linear_model/_ridge.py:148: LinAlgWarning: Ill-conditioned matrix (rcond=1.12869e-17): result may not be accurate.\n",
      "  overwrite_a=True).T\n",
      "/opt/tljh/user/lib/python3.7/site-packages/sklearn/linear_model/_ridge.py:148: LinAlgWarning: Ill-conditioned matrix (rcond=1.26995e-17): result may not be accurate.\n",
      "  overwrite_a=True).T\n",
      "/opt/tljh/user/lib/python3.7/site-packages/sklearn/linear_model/_ridge.py:148: LinAlgWarning: Ill-conditioned matrix (rcond=1.28807e-17): result may not be accurate.\n",
      "  overwrite_a=True).T\n",
      "/opt/tljh/user/lib/python3.7/site-packages/sklearn/linear_model/_ridge.py:148: LinAlgWarning: Ill-conditioned matrix (rcond=1.28505e-17): result may not be accurate.\n",
      "  overwrite_a=True).T\n",
      "/opt/tljh/user/lib/python3.7/site-packages/sklearn/linear_model/_ridge.py:148: LinAlgWarning: Ill-conditioned matrix (rcond=2.20193e-17): result may not be accurate.\n",
      "  overwrite_a=True).T\n",
      "/opt/tljh/user/lib/python3.7/site-packages/sklearn/linear_model/_ridge.py:148: LinAlgWarning: Ill-conditioned matrix (rcond=1.28799e-17): result may not be accurate.\n",
      "  overwrite_a=True).T\n",
      "/opt/tljh/user/lib/python3.7/site-packages/sklearn/linear_model/_ridge.py:148: LinAlgWarning: Ill-conditioned matrix (rcond=2.17606e-17): result may not be accurate.\n",
      "  overwrite_a=True).T\n",
      "/opt/tljh/user/lib/python3.7/site-packages/sklearn/linear_model/_ridge.py:148: LinAlgWarning: Ill-conditioned matrix (rcond=1.27426e-17): result may not be accurate.\n",
      "  overwrite_a=True).T\n",
      "/opt/tljh/user/lib/python3.7/site-packages/sklearn/linear_model/_ridge.py:148: LinAlgWarning: Ill-conditioned matrix (rcond=1.28068e-17): result may not be accurate.\n",
      "  overwrite_a=True).T\n",
      "/opt/tljh/user/lib/python3.7/site-packages/sklearn/linear_model/_ridge.py:148: LinAlgWarning: Ill-conditioned matrix (rcond=1.27562e-17): result may not be accurate.\n",
      "  overwrite_a=True).T\n",
      "/opt/tljh/user/lib/python3.7/site-packages/sklearn/linear_model/_ridge.py:148: LinAlgWarning: Ill-conditioned matrix (rcond=1.28984e-17): result may not be accurate.\n",
      "  overwrite_a=True).T\n",
      "/opt/tljh/user/lib/python3.7/site-packages/sklearn/linear_model/_ridge.py:148: LinAlgWarning: Ill-conditioned matrix (rcond=1.42858e-17): result may not be accurate.\n",
      "  overwrite_a=True).T\n",
      "/opt/tljh/user/lib/python3.7/site-packages/sklearn/linear_model/_ridge.py:148: LinAlgWarning: Ill-conditioned matrix (rcond=1.44899e-17): result may not be accurate.\n",
      "  overwrite_a=True).T\n",
      "/opt/tljh/user/lib/python3.7/site-packages/sklearn/linear_model/_ridge.py:148: LinAlgWarning: Ill-conditioned matrix (rcond=1.44558e-17): result may not be accurate.\n",
      "  overwrite_a=True).T\n",
      "/opt/tljh/user/lib/python3.7/site-packages/sklearn/linear_model/_ridge.py:148: LinAlgWarning: Ill-conditioned matrix (rcond=2.477e-17): result may not be accurate.\n",
      "  overwrite_a=True).T\n",
      "/opt/tljh/user/lib/python3.7/site-packages/sklearn/linear_model/_ridge.py:148: LinAlgWarning: Ill-conditioned matrix (rcond=1.44894e-17): result may not be accurate.\n",
      "  overwrite_a=True).T\n",
      "/opt/tljh/user/lib/python3.7/site-packages/sklearn/linear_model/_ridge.py:148: LinAlgWarning: Ill-conditioned matrix (rcond=2.4479e-17): result may not be accurate.\n",
      "  overwrite_a=True).T\n",
      "/opt/tljh/user/lib/python3.7/site-packages/sklearn/linear_model/_ridge.py:148: LinAlgWarning: Ill-conditioned matrix (rcond=1.43345e-17): result may not be accurate.\n",
      "  overwrite_a=True).T\n",
      "/opt/tljh/user/lib/python3.7/site-packages/sklearn/linear_model/_ridge.py:148: LinAlgWarning: Ill-conditioned matrix (rcond=1.44069e-17): result may not be accurate.\n",
      "  overwrite_a=True).T\n",
      "/opt/tljh/user/lib/python3.7/site-packages/sklearn/linear_model/_ridge.py:148: LinAlgWarning: Ill-conditioned matrix (rcond=1.43496e-17): result may not be accurate.\n",
      "  overwrite_a=True).T\n",
      "/opt/tljh/user/lib/python3.7/site-packages/sklearn/linear_model/_ridge.py:148: LinAlgWarning: Ill-conditioned matrix (rcond=1.45098e-17): result may not be accurate.\n",
      "  overwrite_a=True).T\n"
     ]
    },
    {
     "name": "stdout",
     "output_type": "stream",
     "text": [
      "MAE of RIDGE: 7.619\n"
     ]
    },
    {
     "name": "stderr",
     "output_type": "stream",
     "text": [
      "/opt/tljh/user/lib/python3.7/site-packages/sklearn/linear_model/_ridge.py:148: LinAlgWarning: Ill-conditioned matrix (rcond=1.57253e-18): result may not be accurate.\n",
      "  overwrite_a=True).T\n"
     ]
    }
   ],
   "source": [
    "ridge = RidgeCV(alphas = [0.1*k for k in range(1,10)], cv = 10)\n",
    "ridge.fit(X_train,y_train)\n",
    "ridge.alpha_ \n",
    "\n",
    "y_test_pred_ridge = ridge.predict(X_test)\n",
    "MAE_ridge=mean_absolute_error(y_test_pred_ridge, y_test)\n",
    "print(\"MAE of RIDGE:\",\"%.3f\" %  MAE_ridge)"
   ]
  },
  {
   "cell_type": "markdown",
   "id": "0597a5bc-4c1f-4d34-aa43-240b12f04c79",
   "metadata": {},
   "source": [
    "## Support Vector Regressor"
   ]
  },
  {
   "cell_type": "markdown",
   "id": "a9468069-6d67-4ae8-becc-3f6cc557bcc8",
   "metadata": {},
   "source": [
    "Avant d'utiliser le modèle SVR, on standardise nos variables (c'est-à-dire qu'on les centre et on réduit) pour qu'elles se placent toutes à la même échelle. "
   ]
  },
  {
   "cell_type": "code",
   "execution_count": 81,
   "id": "cd4730cd-e7e3-449d-b130-548ae3da016c",
   "metadata": {},
   "outputs": [],
   "source": [
    "from sklearn.preprocessing import StandardScaler\n",
    "scaler_sd = StandardScaler()\n",
    "\n",
    "# Get scaling parameters with the train sample exclusively, using the Scaler.fit() function\n",
    "scaler_sd.fit(X_train)\n",
    "\n",
    "# Scale data using Scaler.transform()\n",
    "X_train_scaled = pd.DataFrame(scaler_sd.transform(X_train))\n",
    "X_test_scaled = pd.DataFrame(scaler_sd.transform(X_test))"
   ]
  },
  {
   "cell_type": "markdown",
   "id": "0132b652-e668-4019-babf-fa2779838ef6",
   "metadata": {},
   "source": [
    "Nous pouvons maintenant entrainer notre SVR tout en optimisant les paramètres. "
   ]
  },
  {
   "cell_type": "code",
   "execution_count": 87,
   "id": "027d9ced-6b1b-406a-b7d1-b6b5e777a2f2",
   "metadata": {},
   "outputs": [],
   "source": [
    "from sklearn.svm import SVR, LinearSVR"
   ]
  },
  {
   "cell_type": "code",
   "execution_count": 88,
   "id": "bcd61630-ce4c-4364-8ffb-55c4f470b4b9",
   "metadata": {},
   "outputs": [
    {
     "data": {
      "text/plain": [
       "GridSearchCV(cv=KFold(n_splits=10, random_state=None, shuffle=False),\n",
       "             estimator=SVR(),\n",
       "             param_grid={'C': [1, 2, 3, 4], 'epsilon': [0.1, 0.2, 0.3, 0.4],\n",
       "                         'kernel': ('linear', 'rbf')})"
      ]
     },
     "execution_count": 88,
     "metadata": {},
     "output_type": "execute_result"
    }
   ],
   "source": [
    "regr = SVR()\n",
    "\n",
    "parameters_regr = {\"C\" : [1,2,3,4],\n",
    "                  \"epsilon\" : [0.1, 0.2, 0.3, 0.4],\n",
    "                  \"kernel\": (\"linear\", \"rbf\")}\n",
    "\n",
    "optSVR = GridSearchCV(regr,\n",
    "                    parameters_regr, \n",
    "                    cv=KFold(n_splits=10)\n",
    "                   )\n",
    "optSVR.fit(X_train_scaled, y_train)"
   ]
  },
  {
   "cell_type": "code",
   "execution_count": 90,
   "id": "fe0a8991-9ac0-40d0-aa21-338ee1a3a727",
   "metadata": {},
   "outputs": [
    {
     "name": "stdout",
     "output_type": "stream",
     "text": [
      "MAE of SVR: 5.625\n"
     ]
    }
   ],
   "source": [
    "y_test_pred_optSVR = optSVR.predict(X_test_scaled)\n",
    "MAE_optSVR=mean_absolute_error(y_test_pred_optSVR, y_test)\n",
    "print(\"MAE of SVR:\",\"%.3f\" %  MAE_optSVR)"
   ]
  },
  {
   "cell_type": "code",
   "execution_count": null,
   "id": "46610d09-cef5-4503-9f17-a592359fc5a0",
   "metadata": {},
   "outputs": [],
   "source": [
    "scaler_sd.fit(X_train_sel_lasso)\n",
    "\n",
    "# Scale data using Scaler.transform()\n",
    "X_train_sel_lasso_scaled = pd.DataFrame(scaler_sd.transform(X_train_sel_lasso))\n",
    "X_test_sel_lasso_scaled = pd.DataFrame(scaler_sd.transform(X_test_sel_lasso))"
   ]
  },
  {
   "cell_type": "code",
   "execution_count": null,
   "id": "56b81d06-c3ab-4cf8-9180-5ec0180d4a7b",
   "metadata": {},
   "outputs": [],
   "source": [
    "regr = SVR()\n",
    "\n",
    "parameters_regr = {\"C\" : [1,2,3,4],\n",
    "                  \"epsilon\" : [0.1, 0.2, 0.3, 0.4],\n",
    "                  \"kernel\": (\"linear\", \"rbf\")}\n",
    "\n",
    "optSVR = GridSearchCV(regr,\n",
    "                    parameters_regr, \n",
    "                    cv=KFold(n_splits=10)\n",
    "                   )\n",
    "optSVR.fit(X_train_sel_lasso_scaled, y_train)"
   ]
  },
  {
   "cell_type": "code",
   "execution_count": null,
   "id": "02f2cb67-af8d-4782-8ecc-624159006752",
   "metadata": {},
   "outputs": [],
   "source": [
    "y_test_lasso_pred_optSVR = optSVR.predict(X_test_sel_lasso_scaled)\n",
    "MAE_optSVR=mean_absolute_error(y_test_lasso_pred_optSVR, y_test)\n",
    "print(\"MAE of SVR_lasso:\",\"%.3f\" %  MAE_optSVR)"
   ]
  },
  {
   "cell_type": "markdown",
   "id": "36272287-644f-4df6-aee1-c09980944820",
   "metadata": {},
   "source": [
    "## DecisionTreeRegression"
   ]
  },
  {
   "cell_type": "code",
   "execution_count": 91,
   "id": "99115117-937a-46c0-9830-434183c976a8",
   "metadata": {},
   "outputs": [
    {
     "name": "stdout",
     "output_type": "stream",
     "text": [
      "MAE of Single Tree: 7.631\n"
     ]
    }
   ],
   "source": [
    "from sklearn import tree\n",
    "from sklearn.tree import DecisionTreeRegressor \n",
    "DTR= DecisionTreeRegressor(min_samples_leaf=200)\n",
    "DTR.fit(X_train, y_train)\n",
    "\n",
    "y_test_pred_DTR = DTR.predict(X_test)\n",
    "MAE_DTR=mean_absolute_error(y_test_pred_DTR, y_test)\n",
    "print(\"MAE of Single Tree:\",\"%.3f\" %  MAE_DTR)"
   ]
  },
  {
   "cell_type": "markdown",
   "id": "56aafb31-288d-4dee-9afc-6c9d67110a36",
   "metadata": {},
   "source": [
    "# Ensemble Learning"
   ]
  },
  {
   "cell_type": "markdown",
   "id": "f02b0e2a-540b-457e-a945-c6a763045dd0",
   "metadata": {},
   "source": [
    "Cette fois-ci, on entraine les modèles d'ensemble learning. Il faut optimiser les hyperparamètres pour entrainer les modèles. "
   ]
  },
  {
   "cell_type": "markdown",
   "id": "23d4956c-1bf5-48f1-aadf-2f1be2a70245",
   "metadata": {},
   "source": [
    "## Bagging Regressor"
   ]
  },
  {
   "cell_type": "code",
   "execution_count": 92,
   "id": "404cf80c-f25b-4ef9-9f9f-caf39261822c",
   "metadata": {},
   "outputs": [],
   "source": [
    "from sklearn.ensemble import BaggingRegressor\n",
    "from sklearn.model_selection import GridSearchCV"
   ]
  },
  {
   "cell_type": "code",
   "execution_count": 93,
   "id": "a32835a4-f464-48b1-9fe2-9f4b0998cc50",
   "metadata": {},
   "outputs": [
    {
     "data": {
      "text/plain": [
       "GridSearchCV(cv=KFold(n_splits=10, random_state=None, shuffle=False),\n",
       "             estimator=BaggingRegressor(base_estimator=DecisionTreeRegressor(),\n",
       "                                        random_state=1),\n",
       "             param_grid={'n_estimators': [50, 100, 200]})"
      ]
     },
     "execution_count": 93,
     "metadata": {},
     "output_type": "execute_result"
    }
   ],
   "source": [
    "tree = DecisionTreeRegressor()\n",
    "bag = BaggingRegressor(tree, random_state=1)\n",
    "tree_parameters = {'n_estimators' : [ 50, 100, 200]}\n",
    "    \n",
    "optBagg = GridSearchCV(bag, tree_parameters, cv=KFold(n_splits=10))\n",
    "\n",
    "optBagg.fit(X_train, y_train)"
   ]
  },
  {
   "cell_type": "code",
   "execution_count": 94,
   "id": "829fe7fc-878a-4dcf-9055-24f23c76b8e3",
   "metadata": {},
   "outputs": [
    {
     "name": "stdout",
     "output_type": "stream",
     "text": [
      "MAE of Bagging of Trees: 5.991\n"
     ]
    }
   ],
   "source": [
    "y_test_pred_Bagg = optBagg.predict(X_test)\n",
    "MAE_Bagg=mean_absolute_error(y_test_pred_Bagg, y_test)\n",
    "print(\"MAE of Bagging of Trees:\",\"%.3f\" %  MAE_Bagg)"
   ]
  },
  {
   "cell_type": "markdown",
   "id": "da7aa63c-8dc8-4ea3-91f0-83f5705e2a78",
   "metadata": {},
   "source": [
    "## RandomForest Regression"
   ]
  },
  {
   "cell_type": "code",
   "execution_count": 95,
   "id": "41a3cbc2-bd12-41b9-a8e8-21b94d302af1",
   "metadata": {},
   "outputs": [],
   "source": [
    "from sklearn.ensemble import RandomForestRegressor  #useful if we want to compute the importance of features"
   ]
  },
  {
   "cell_type": "code",
   "execution_count": 96,
   "id": "0a36cfee-dc7e-4f3d-99e2-dc19246a7d18",
   "metadata": {},
   "outputs": [
    {
     "data": {
      "text/plain": [
       "GridSearchCV(cv=KFold(n_splits=10, random_state=None, shuffle=False),\n",
       "             estimator=RandomForestRegressor(n_estimators='absolute_error'),\n",
       "             param_grid={'max_features': [2, 3, 4, 5],\n",
       "                         'n_estimators': [100, 200]})"
      ]
     },
     "execution_count": 96,
     "metadata": {},
     "output_type": "execute_result"
    }
   ],
   "source": [
    "RF = RandomForestRegressor(\"absolute_error\")\n",
    "RF_parameters = {\"n_estimators\" : [ 100, 200],\n",
    "                 \"max_features\" : [2,3,4,5]}\n",
    "    \n",
    "optRF = GridSearchCV(RF, RF_parameters, cv=KFold(n_splits=10))\n",
    "\n",
    "optRF.fit(X_train, y_train)"
   ]
  },
  {
   "cell_type": "code",
   "execution_count": 97,
   "id": "3e2d74cb-61bf-4474-a915-b2b7b32f46e5",
   "metadata": {},
   "outputs": [
    {
     "name": "stdout",
     "output_type": "stream",
     "text": [
      "MAE of Random Forest: 6.178\n"
     ]
    }
   ],
   "source": [
    "y_test_pred_RF = optRF.predict(X_test)\n",
    "MAE_RF=mean_absolute_error(y_test_pred_RF, y_test)\n",
    "print(\"MAE of Random Forest:\",\"%.3f\" %  MAE_RF)"
   ]
  },
  {
   "cell_type": "markdown",
   "id": "7043b68f-9a47-4aee-ba45-462793362ece",
   "metadata": {},
   "source": [
    "## Gradient Boosting Regressor"
   ]
  },
  {
   "cell_type": "code",
   "execution_count": 98,
   "id": "018352db-fc9b-4827-a876-1508feeb2357",
   "metadata": {},
   "outputs": [],
   "source": [
    "from sklearn.ensemble import GradientBoostingRegressor"
   ]
  },
  {
   "cell_type": "code",
   "execution_count": 99,
   "id": "6668dd1a-63a8-4517-ac62-cbd1fa8ef9a5",
   "metadata": {},
   "outputs": [
    {
     "data": {
      "text/plain": [
       "GridSearchCV(cv=KFold(n_splits=10, random_state=None, shuffle=False),\n",
       "             estimator=GradientBoostingRegressor(),\n",
       "             param_grid={'learning_rate': [0.1, 0.2, 0.3, 0.4],\n",
       "                         'n_estimators': [200, 300, 400]})"
      ]
     },
     "execution_count": 99,
     "metadata": {},
     "output_type": "execute_result"
    }
   ],
   "source": [
    "GBR = GradientBoostingRegressor()\n",
    "\n",
    "GBR_parameters = {'learning_rate' : [ 0.1,0.2,0.3,0.4],\n",
    "            'n_estimators' : [200,300,400]  }\n",
    "\n",
    "optGBR = GridSearchCV(GBR, GBR_parameters, cv=KFold(n_splits=10))\n",
    "\n",
    "optGBR.fit(X_train, y_train)"
   ]
  },
  {
   "cell_type": "code",
   "execution_count": 100,
   "id": "331d2d01-9765-42c7-b728-3b20b579962b",
   "metadata": {},
   "outputs": [
    {
     "name": "stdout",
     "output_type": "stream",
     "text": [
      "MAE of Gradient Boosting Regressor: 5.878\n"
     ]
    }
   ],
   "source": [
    "y_test_pred_GBR = optGBR.predict(X_test)\n",
    "\n",
    "MAE_GBR = mean_absolute_error(y_test_pred_GBR, y_test)\n",
    "print(\"MAE of Gradient Boosting Regressor:\",\"%.3f\" %  MAE_GBR)"
   ]
  },
  {
   "cell_type": "markdown",
   "id": "5e0a5fe6-c555-499e-bd46-cbc5b892c1e2",
   "metadata": {},
   "source": [
    "## AdaBoost Regressor"
   ]
  },
  {
   "cell_type": "code",
   "execution_count": 101,
   "id": "280b618f-be63-4772-bce2-270e258956fe",
   "metadata": {},
   "outputs": [],
   "source": [
    "from sklearn.ensemble import AdaBoostRegressor"
   ]
  },
  {
   "cell_type": "code",
   "execution_count": 102,
   "id": "c32dd3e8-43e1-49dc-b89f-4a75a8527207",
   "metadata": {},
   "outputs": [
    {
     "data": {
      "text/plain": [
       "AdaBoostRegressor()"
      ]
     },
     "execution_count": 102,
     "metadata": {},
     "output_type": "execute_result"
    }
   ],
   "source": [
    "AR = AdaBoostRegressor()\n",
    "\n",
    "AR_parameters = {\n",
    "    'learning_rate' : [k for k in range(1,10)],\n",
    "    'n_estimator' : [100*k for k in range(1,10)]\n",
    "}\n",
    "\n",
    "optGBR = GridSearchCV(AR, AR_parameters, cv=KFold(n_splits=10))\n",
    "\n",
    "AR.fit(X_train, y_train)"
   ]
  },
  {
   "cell_type": "code",
   "execution_count": 103,
   "id": "4e421e7c-d2d1-462a-adcc-ef303b640f98",
   "metadata": {},
   "outputs": [
    {
     "name": "stdout",
     "output_type": "stream",
     "text": [
      "MAE of AdaBoost Regressor: 8.056\n"
     ]
    }
   ],
   "source": [
    "y_test_pred_AR = AR.predict(X_test)\n",
    "MAE_AR = mean_absolute_error(y_test_pred_AR, y_test)\n",
    "print(\"MAE of AdaBoost Regressor:\",\"%.3f\" %  MAE_AR)"
   ]
  },
  {
   "cell_type": "markdown",
   "id": "4f24631f-23c5-4fdb-8b0c-cbcf54a014bd",
   "metadata": {},
   "source": [
    "## Stacking Regressor "
   ]
  },
  {
   "cell_type": "code",
   "execution_count": 104,
   "id": "9c001321-18a6-4e99-a2f7-764c0a4c0d3c",
   "metadata": {},
   "outputs": [
    {
     "name": "stderr",
     "output_type": "stream",
     "text": [
      "/opt/tljh/user/lib/python3.7/site-packages/sklearn/svm/_base.py:986: ConvergenceWarning: Liblinear failed to converge, increase the number of iterations.\n",
      "  \"the number of iterations.\", ConvergenceWarning)\n",
      "/opt/tljh/user/lib/python3.7/site-packages/sklearn/svm/_base.py:986: ConvergenceWarning: Liblinear failed to converge, increase the number of iterations.\n",
      "  \"the number of iterations.\", ConvergenceWarning)\n",
      "/opt/tljh/user/lib/python3.7/site-packages/sklearn/svm/_base.py:986: ConvergenceWarning: Liblinear failed to converge, increase the number of iterations.\n",
      "  \"the number of iterations.\", ConvergenceWarning)\n",
      "/opt/tljh/user/lib/python3.7/site-packages/sklearn/svm/_base.py:986: ConvergenceWarning: Liblinear failed to converge, increase the number of iterations.\n",
      "  \"the number of iterations.\", ConvergenceWarning)\n",
      "/opt/tljh/user/lib/python3.7/site-packages/sklearn/svm/_base.py:986: ConvergenceWarning: Liblinear failed to converge, increase the number of iterations.\n",
      "  \"the number of iterations.\", ConvergenceWarning)\n",
      "/opt/tljh/user/lib/python3.7/site-packages/sklearn/svm/_base.py:986: ConvergenceWarning: Liblinear failed to converge, increase the number of iterations.\n",
      "  \"the number of iterations.\", ConvergenceWarning)\n"
     ]
    },
    {
     "name": "stdout",
     "output_type": "stream",
     "text": [
      "MAE of Stacking Regressor: 7.588\n"
     ]
    }
   ],
   "source": [
    "from sklearn.ensemble import StackingRegressor\n",
    "\n",
    "estimators = [('lr', reg),\n",
    "              ('svr', LinearSVR())]\n",
    "\n",
    "SR = StackingRegressor( estimators=estimators, final_estimator=RandomForestRegressor(n_estimators=200))\n",
    "\n",
    "SR.fit(X_train, y_train)\n",
    "y_test_pred_SR = SR.predict(X_test)\n",
    "    \n",
    "MAE_SR = mean_absolute_error(y_test_pred_SR, y_test)\n",
    "print(\"MAE of Stacking Regressor:\",\"%.3f\" %  MAE_SR)"
   ]
  },
  {
   "cell_type": "markdown",
   "id": "b383499d-e51b-484b-b91d-e33e0632176a",
   "metadata": {},
   "source": [
    "## Results"
   ]
  },
  {
   "cell_type": "code",
   "execution_count": 105,
   "id": "0c0f9f0a-3c53-4021-8b05-0feb3a8d7218",
   "metadata": {},
   "outputs": [
    {
     "name": "stdout",
     "output_type": "stream",
     "text": [
      "MAE (Mean Absolute Error) for:\n",
      " - Linear Regression:  7.601 \n",
      " - Lasso Regression:  6.807 \n",
      " - Linear Selected Lasso Regression:  6.844 \n",
      " - Ridge Regression:  7.619 \n",
      " - Support Vector Regression:  5.625 \n",
      " - DecisionTreeRegression:  7.631 \n",
      " - Bagging of trees:  5.991 \n",
      " - Random Forest:  6.178 \n",
      " - Gradient Boosting Regressor:  5.878 \n",
      " - AdaBoost Regressor:  8.056 \n",
      " - Stacking Regressor:  7.588\n"
     ]
    }
   ],
   "source": [
    "print(\"MAE (Mean Absolute Error) for:\\n\", \n",
    "     \"- Linear Regression: \", \"%.3f\" % MAE_reg,\"\\n\",\n",
    "     \"- Lasso Regression: \", \"%.3f\" % MAE_lasso, \"\\n\",\n",
    "     \"- Linear Selected Lasso Regression: \", \"%.3f\" % MAE_LSLASSO, \"\\n\",\n",
    "     \"- Ridge Regression: \", \"%.3f\" % MAE_ridge, \"\\n\",\n",
    "     \"- Support Vector Regression: \", \"%.3f\" % MAE_optSVR, \"\\n\",\n",
    "     \"- DecisionTreeRegression: \", \"%.3f\" % MAE_DTR, \"\\n\",\n",
    "     \"- Bagging of trees: \", \"%.3f\" % MAE_Bagg,\"\\n\",\n",
    "     \"- Random Forest: \", \"%.3f\" % MAE_RF, \"\\n\",\n",
    "     \"- Gradient Boosting Regressor: \", \"%.3f\" % MAE_GBR, '\\n',\n",
    "     \"- AdaBoost Regressor: \", \"%.3f\" % MAE_AR, '\\n',\n",
    "     \"- Stacking Regressor: \", \"%.3f\" % MAE_SR\n",
    "     )"
   ]
  },
  {
   "cell_type": "markdown",
   "id": "d7d466ff-ecee-4b6a-8d06-5d06ccf8516b",
   "metadata": {},
   "source": [
    "Comme on peut le constater, aucune des modèles utilisées n'est assez performant. Nous choisirons donc celui qui possède le MAE le moins élevé. Il s'agit du Support Vector Regression. "
   ]
  },
  {
   "cell_type": "markdown",
   "id": "cb2e7094-6a1e-42a4-b298-fa02738a5234",
   "metadata": {},
   "source": [
    "# Test our model on data_test "
   ]
  },
  {
   "cell_type": "markdown",
   "id": "3aa212cc-986d-4dac-aa0c-cf4ef3b61349",
   "metadata": {},
   "source": [
    "En vu des résultats précédents, on utilisera la SVR car il possède la plus petite MAE. "
   ]
  },
  {
   "cell_type": "code",
   "execution_count": 106,
   "id": "2511e233-8d30-4d4d-8cb7-b57249f27bb3",
   "metadata": {},
   "outputs": [
    {
     "data": {
      "text/html": [
       "<div>\n",
       "<style scoped>\n",
       "    .dataframe tbody tr th:only-of-type {\n",
       "        vertical-align: middle;\n",
       "    }\n",
       "\n",
       "    .dataframe tbody tr th {\n",
       "        vertical-align: top;\n",
       "    }\n",
       "\n",
       "    .dataframe thead th {\n",
       "        text-align: right;\n",
       "    }\n",
       "</style>\n",
       "<table border=\"1\" class=\"dataframe\">\n",
       "  <thead>\n",
       "    <tr style=\"text-align: right;\">\n",
       "      <th></th>\n",
       "      <th>X1</th>\n",
       "      <th>X2</th>\n",
       "      <th>X3</th>\n",
       "      <th>X4</th>\n",
       "      <th>X5</th>\n",
       "      <th>X6</th>\n",
       "      <th>X7</th>\n",
       "      <th>X8</th>\n",
       "      <th>X9</th>\n",
       "      <th>X10</th>\n",
       "      <th>...</th>\n",
       "      <th>X29</th>\n",
       "      <th>X30</th>\n",
       "      <th>X31</th>\n",
       "      <th>X32</th>\n",
       "      <th>X33</th>\n",
       "      <th>X34</th>\n",
       "      <th>X35</th>\n",
       "      <th>X36</th>\n",
       "      <th>X37</th>\n",
       "      <th>X38</th>\n",
       "    </tr>\n",
       "  </thead>\n",
       "  <tbody>\n",
       "    <tr>\n",
       "      <th>0</th>\n",
       "      <td>634995</td>\n",
       "      <td>0</td>\n",
       "      <td>463</td>\n",
       "      <td>Source1</td>\n",
       "      <td>0</td>\n",
       "      <td>806</td>\n",
       "      <td>11.291045</td>\n",
       "      <td>1.0</td>\n",
       "      <td>70.495138</td>\n",
       "      <td>0</td>\n",
       "      <td>...</td>\n",
       "      <td>69.85058</td>\n",
       "      <td>0</td>\n",
       "      <td>0</td>\n",
       "      <td>0</td>\n",
       "      <td>0</td>\n",
       "      <td>0</td>\n",
       "      <td>166</td>\n",
       "      <td>2</td>\n",
       "      <td>24</td>\n",
       "      <td>Wednesday</td>\n",
       "    </tr>\n",
       "    <tr>\n",
       "      <th>1</th>\n",
       "      <td>634995</td>\n",
       "      <td>0</td>\n",
       "      <td>463</td>\n",
       "      <td>Source1</td>\n",
       "      <td>0</td>\n",
       "      <td>806</td>\n",
       "      <td>11.291045</td>\n",
       "      <td>1.0</td>\n",
       "      <td>70.495138</td>\n",
       "      <td>0</td>\n",
       "      <td>...</td>\n",
       "      <td>69.85058</td>\n",
       "      <td>0</td>\n",
       "      <td>0</td>\n",
       "      <td>0</td>\n",
       "      <td>0</td>\n",
       "      <td>0</td>\n",
       "      <td>132</td>\n",
       "      <td>1</td>\n",
       "      <td>24</td>\n",
       "      <td>Thursday</td>\n",
       "    </tr>\n",
       "    <tr>\n",
       "      <th>2</th>\n",
       "      <td>634995</td>\n",
       "      <td>0</td>\n",
       "      <td>463</td>\n",
       "      <td>Source1</td>\n",
       "      <td>0</td>\n",
       "      <td>806</td>\n",
       "      <td>11.291045</td>\n",
       "      <td>1.0</td>\n",
       "      <td>70.495138</td>\n",
       "      <td>0</td>\n",
       "      <td>...</td>\n",
       "      <td>69.85058</td>\n",
       "      <td>0</td>\n",
       "      <td>0</td>\n",
       "      <td>0</td>\n",
       "      <td>0</td>\n",
       "      <td>0</td>\n",
       "      <td>133</td>\n",
       "      <td>2</td>\n",
       "      <td>24</td>\n",
       "      <td>Friday</td>\n",
       "    </tr>\n",
       "    <tr>\n",
       "      <th>3</th>\n",
       "      <td>634995</td>\n",
       "      <td>0</td>\n",
       "      <td>463</td>\n",
       "      <td>Source1</td>\n",
       "      <td>0</td>\n",
       "      <td>806</td>\n",
       "      <td>11.291045</td>\n",
       "      <td>1.0</td>\n",
       "      <td>70.495138</td>\n",
       "      <td>0</td>\n",
       "      <td>...</td>\n",
       "      <td>69.85058</td>\n",
       "      <td>7</td>\n",
       "      <td>0</td>\n",
       "      <td>3</td>\n",
       "      <td>7</td>\n",
       "      <td>-3</td>\n",
       "      <td>131</td>\n",
       "      <td>1</td>\n",
       "      <td>24</td>\n",
       "      <td>Friday</td>\n",
       "    </tr>\n",
       "    <tr>\n",
       "      <th>4</th>\n",
       "      <td>634995</td>\n",
       "      <td>0</td>\n",
       "      <td>463</td>\n",
       "      <td>Source1</td>\n",
       "      <td>0</td>\n",
       "      <td>806</td>\n",
       "      <td>11.291045</td>\n",
       "      <td>1.0</td>\n",
       "      <td>70.495138</td>\n",
       "      <td>0</td>\n",
       "      <td>...</td>\n",
       "      <td>69.85058</td>\n",
       "      <td>1</td>\n",
       "      <td>0</td>\n",
       "      <td>0</td>\n",
       "      <td>1</td>\n",
       "      <td>0</td>\n",
       "      <td>142</td>\n",
       "      <td>5</td>\n",
       "      <td>24</td>\n",
       "      <td>Monday</td>\n",
       "    </tr>\n",
       "  </tbody>\n",
       "</table>\n",
       "<p>5 rows × 38 columns</p>\n",
       "</div>"
      ],
      "text/plain": [
       "       X1  X2   X3       X4  X5   X6         X7   X8         X9  X10  ...  \\\n",
       "0  634995   0  463  Source1   0  806  11.291045  1.0  70.495138    0  ...   \n",
       "1  634995   0  463  Source1   0  806  11.291045  1.0  70.495138    0  ...   \n",
       "2  634995   0  463  Source1   0  806  11.291045  1.0  70.495138    0  ...   \n",
       "3  634995   0  463  Source1   0  806  11.291045  1.0  70.495138    0  ...   \n",
       "4  634995   0  463  Source1   0  806  11.291045  1.0  70.495138    0  ...   \n",
       "\n",
       "        X29  X30  X31  X32  X33  X34  X35  X36  X37        X38  \n",
       "0  69.85058    0    0    0    0    0  166    2   24  Wednesday  \n",
       "1  69.85058    0    0    0    0    0  132    1   24   Thursday  \n",
       "2  69.85058    0    0    0    0    0  133    2   24     Friday  \n",
       "3  69.85058    7    0    3    7   -3  131    1   24     Friday  \n",
       "4  69.85058    1    0    0    1    0  142    5   24     Monday  \n",
       "\n",
       "[5 rows x 38 columns]"
      ]
     },
     "execution_count": 106,
     "metadata": {},
     "output_type": "execute_result"
    }
   ],
   "source": [
    "data_test.head()"
   ]
  },
  {
   "cell_type": "markdown",
   "id": "ac0b5878-fea5-4109-8b17-a7fe877d1dba",
   "metadata": {},
   "source": [
    "On effectue maintenant des processus d'encodage pour changer le type des variables X4 et X38. Cela est nécessaire pour changer la valeur des variables. Pour cela, on va convertir les variables en array, puis les recadrer afin d'avoir une matrice colonne. À la suite de ces étapes, on entraîne et on transforme nos variables. "
   ]
  },
  {
   "cell_type": "code",
   "execution_count": 107,
   "id": "6415b5d3-72b4-4c3f-8f14-579ad75eb022",
   "metadata": {},
   "outputs": [],
   "source": [
    "enc1_test = preprocessing.OrdinalEncoder(categories='auto')\n",
    "enc2_test = preprocessing.OrdinalEncoder(categories='auto')"
   ]
  },
  {
   "cell_type": "code",
   "execution_count": 108,
   "id": "256cbd94-11a9-4141-99c1-a970386daacd",
   "metadata": {},
   "outputs": [],
   "source": [
    "X4_test = data_test[\"X4\"].to_numpy()\n",
    "X4_test = X4_test.reshape(-1,1)\n",
    "\n",
    "enc1_test.fit(X4_test)\n",
    "\n",
    "X4_bis_test = enc1.transform(X4_test)\n",
    "\n",
    "data_test.insert(3, \"X4_bis\", X4_bis_test, allow_duplicates=False)"
   ]
  },
  {
   "cell_type": "code",
   "execution_count": 109,
   "id": "e71d46d0-1a22-4885-8135-05e50bf17bf1",
   "metadata": {},
   "outputs": [],
   "source": [
    "X38_test = data_test[\"X38\"].to_numpy()\n",
    "X38_test = X38_test.reshape(-1,1)\n",
    "\n",
    "enc2_test.fit(X38_test)\n",
    "\n",
    "X38_bis_test = enc2_test.transform(X38_test)\n",
    "\n",
    "data_test.insert(38, \"X38_bis\", X38_bis_test, allow_duplicates=False)"
   ]
  },
  {
   "cell_type": "markdown",
   "id": "3ecdceaf-a544-49c9-bdf5-57cdfb219139",
   "metadata": {},
   "source": [
    "On supprime les colonnes X4 et X38 des données car ils nous servent plus à rien. "
   ]
  },
  {
   "cell_type": "code",
   "execution_count": 110,
   "id": "9e64e510-ced8-44c5-a0d1-b96b2154d448",
   "metadata": {},
   "outputs": [],
   "source": [
    "data_test = data_test.drop([\"X4\", \"X38\"], axis=1).copy()"
   ]
  },
  {
   "cell_type": "markdown",
   "id": "57124271-5d99-496b-a64a-c71337eb19f1",
   "metadata": {},
   "source": [
    "On standardise nos données. "
   ]
  },
  {
   "cell_type": "code",
   "execution_count": 111,
   "id": "5f79e363-6987-4a3e-857b-336e1e75743e",
   "metadata": {},
   "outputs": [],
   "source": [
    "data_test_scaled = pd.DataFrame(scaler_sd.transform(data_test))"
   ]
  },
  {
   "cell_type": "markdown",
   "id": "6a3022d4-6eb4-4c97-905c-31c1bc9e6b06",
   "metadata": {},
   "source": [
    "On entraîne nos modèles sur les échantillons d'apprentissage. "
   ]
  },
  {
   "cell_type": "code",
   "execution_count": null,
   "id": "399f9be6-54a9-496c-8f91-ca3f2e1eb7bc",
   "metadata": {
    "tags": []
   },
   "outputs": [],
   "source": [
    "optSVR.fit(X_train_scaled, y_train)\n",
    "y_test_output = optSVR.predict(data_test_scaled)"
   ]
  },
  {
   "cell_type": "code",
   "execution_count": null,
   "id": "de003042-5df7-48da-ab99-8ead258476cb",
   "metadata": {},
   "outputs": [],
   "source": [
    "y_test_df = pd.DataFrame(y_test_output)"
   ]
  },
  {
   "cell_type": "code",
   "execution_count": null,
   "id": "d232a9b9-0fe1-463f-acf8-d68392b2fd96",
   "metadata": {},
   "outputs": [],
   "source": [
    "y_test_df.columns = [\"Y\"]"
   ]
  },
  {
   "cell_type": "markdown",
   "id": "5b199504-4f9d-4a4d-a879-7c5892f9bb54",
   "metadata": {},
   "source": [
    "On exporte nos données de façon à ce qu'il vérifie le code de R, c'est-à-dire : \n",
    "- un nombre de colonne exacte;\n",
    "- un nombre de ligne exacte;\n",
    "- on peut comparer les données;"
   ]
  },
  {
   "cell_type": "code",
   "execution_count": null,
   "id": "5a6609a4-35cd-4e91-81cd-3ad6eef447aa",
   "metadata": {},
   "outputs": [],
   "source": [
    "output_csv_data = y_test_df.to_csv('id1789.csv', index = False, header = False)"
   ]
  }
 ],
 "metadata": {
  "kernelspec": {
   "display_name": "Python 3",
   "language": "python",
   "name": "python3"
  },
  "language_info": {
   "codemirror_mode": {
    "name": "ipython",
    "version": 3
   },
   "file_extension": ".py",
   "mimetype": "text/x-python",
   "name": "python",
   "nbconvert_exporter": "python",
   "pygments_lexer": "ipython3",
   "version": "3.7.10"
  }
 },
 "nbformat": 4,
 "nbformat_minor": 5
}
